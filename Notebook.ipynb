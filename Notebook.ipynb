{
 "cells": [
  {
   "cell_type": "markdown",
   "metadata": {},
   "source": [
    "## 0. Introduction\n",
    "\n",
    "Ce projet est réalisé par Zakarya El Mimouni et Yassine Boukhateb étudiants en deuxième année du cycle ingénieur de l'ENSAE Paris dans le cadre du cours de Python pour la DataScience.\n",
    "\n",
    "**Importation des modules et packages**"
   ]
  },
  {
   "cell_type": "code",
   "execution_count": 1,
   "metadata": {},
   "outputs": [],
   "source": [
    "import requests\n",
    "import json\n",
    "import time\n",
    "import pandas as pd\n",
    "import nltk\n",
    "from sklearn.feature_extraction.text import CountVectorizer\n",
    "from sklearn.metrics.pairwise import cosine_similarity\n",
    "import pickle"
   ]
  },
  {
   "cell_type": "markdown",
   "metadata": {},
   "source": [
    "## I. Récupération des données\n",
    "\n",
    "On récupère les données de 10 000 films grâce à l'API TMDB"
   ]
  },
  {
   "cell_type": "code",
   "execution_count": 6,
   "metadata": {},
   "outputs": [
    {
     "name": "stdout",
     "output_type": "stream",
     "text": [
      "Film Killers of the Flower Moon récupéré avec détails supplémentaires.\n",
      "Film Robot Apocalypse récupéré avec détails supplémentaires.\n",
      "Film Freelance récupéré avec détails supplémentaires.\n",
      "Film Wonka récupéré avec détails supplémentaires.\n",
      "Film Trolls Band Together récupéré avec détails supplémentaires.\n",
      "Film Leave the World Behind récupéré avec détails supplémentaires.\n",
      "Film Leo récupéré avec détails supplémentaires.\n",
      "Film Good Boy récupéré avec détails supplémentaires.\n",
      "Film A Man of Reason récupéré avec détails supplémentaires.\n",
      "Film Oppenheimer récupéré avec détails supplémentaires.\n",
      "Film Five Nights at Freddy's récupéré avec détails supplémentaires.\n",
      "Film The Creator récupéré avec détails supplémentaires.\n",
      "Film The Advent Calendar récupéré avec détails supplémentaires.\n",
      "Film Rumble Through the Dark récupéré avec détails supplémentaires.\n",
      "Film Fast X récupéré avec détails supplémentaires.\n",
      "Film Fast Charlie récupéré avec détails supplémentaires.\n",
      "Film Merry Little Batman récupéré avec détails supplémentaires.\n",
      "Film Galaxy Games récupéré avec détails supplémentaires.\n",
      "Film The Dark Kingdom récupéré avec détails supplémentaires.\n",
      "Film Krampus récupéré avec détails supplémentaires.\n",
      "Page 1 récupérée. Total de films récupérés : 20\n",
      "Récupération des films avec détails complets terminée. Les données ont été enregistrées dans movies_data_complete.json.\n"
     ]
    }
   ],
   "source": [
    "# Votre clé d'API TMDb\n",
    "api_key = '28c6630049f5d468217e4f34963c03a6'\n",
    "\n",
    "# URL de base de l'API TMDb pour les films populaires\n",
    "base_url_popular = 'https://api.themoviedb.org/3/movie/popular'\n",
    "\n",
    "# Nombre total de films à récupérer\n",
    "total_movies = 20\n",
    "\n",
    "# Nombre de films à récupérer par requête\n",
    "movies_per_request = 20 \n",
    "\n",
    "# Champs de base pour les films\n",
    "fields = 'id'##,title,original_title,overview,release_date,popularity,vote_average,vote_count,poster_path,runtime,genres,production_companies,production_countries,spoken_languages'\n",
    "\n",
    "# Liste pour stocker tous les films avec leurs détails\n",
    "all_movies_details = []\n",
    "\n",
    "# Nombre de requêtes nécessaires pour obtenir le nombre total de films\n",
    "num_requests = total_movies // movies_per_request\n",
    "\n",
    "# Effectuer les requêtes pour récupérer les films\n",
    "for page in range(1, num_requests + 1):\n",
    "    params = {\n",
    "        'api_key': api_key,\n",
    "        'page': page,\n",
    "        'fields': fields\n",
    "    }\n",
    "\n",
    "    response = requests.get(base_url_popular, params=params)\n",
    "\n",
    "    if response.status_code == 200:\n",
    "        movies_data = response.json()\n",
    "        movies = movies_data.get('results', [])\n",
    "\n",
    "        # Pour chaque film, récupérer les détails supplémentaires\n",
    "        for movie in movies:\n",
    "            movie_id = movie['id']\n",
    "            movie_details_url = f'https://api.themoviedb.org/3/movie/{movie_id}?api_key={api_key}&append_to_response=credits,keywords'\n",
    "\n",
    "            movie_details_response = requests.get(movie_details_url)\n",
    "            if movie_details_response.status_code == 200:\n",
    "                movie_details = movie_details_response.json()\n",
    "                all_movies_details.append(movie_details)\n",
    "                print(f\"Film {movie['title']} récupéré avec détails supplémentaires.\")\n",
    "                time.sleep(0.5)\n",
    "            else:\n",
    "                print(f\"Erreur lors de la récupération des détails pour {movie['title']}. Statut : {movie_details_response.status_code}\")\n",
    "\n",
    "        print(f\"Page {page} récupérée. Total de films récupérés : {len(all_movies_details)}\")\n",
    "        time.sleep(0.5)\n",
    "    else:\n",
    "        print(f\"Erreur lors de la requête pour la page {page}. Statut : {response.status_code}\")\n",
    "\n",
    "    if len(all_movies_details) >= total_movies:\n",
    "        break\n",
    "\n",
    "# Enregistrer les données complètes dans un fichier JSON\n",
    "with open('movies_data_complete.json', 'w', encoding='utf-8') as f:\n",
    "    json.dump(all_movies_details, f, ensure_ascii=False, indent=4)\n",
    "\n",
    "print(\"Récupération des films avec détails complets terminée. Les données ont été enregistrées dans movies_data_complete.json.\")\n"
   ]
  },
  {
   "cell_type": "code",
   "execution_count": 8,
   "metadata": {},
   "outputs": [],
   "source": []
  }
 ],
 "metadata": {
  "kernelspec": {
   "display_name": "base",
   "language": "python",
   "name": "python3"
  },
  "language_info": {
   "codemirror_mode": {
    "name": "ipython",
    "version": 3
   },
   "file_extension": ".py",
   "mimetype": "text/x-python",
   "name": "python",
   "nbconvert_exporter": "python",
   "pygments_lexer": "ipython3",
   "version": "3.11.5"
  }
 },
 "nbformat": 4,
 "nbformat_minor": 2
}
