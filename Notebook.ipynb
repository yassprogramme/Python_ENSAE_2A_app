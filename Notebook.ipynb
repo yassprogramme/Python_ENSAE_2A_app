{
 "cells": [
  {
   "cell_type": "markdown",
   "metadata": {},
   "source": [
    "## 0. Introduction\n",
    "\n",
    "Ce projet est réalisé par Zakarya El Mimouni et Yassine Boukhateb étudiants en deuxième année du cycle ingénieur de l'ENSAE Paris dans le cadre du cours de Python pour la DataScience.\n",
    "\n",
    "**Importation des modules et packages**"
   ]
  },
  {
   "cell_type": "code",
   "execution_count": 1,
   "metadata": {},
   "outputs": [],
   "source": [
    "import requests\n",
    "import json\n",
    "import time\n",
    "import pandas as pd\n",
    "import nltk\n",
    "from nltk.stem.porter import PorterStemmer\n",
    "from sklearn.feature_extraction.text import CountVectorizer\n",
    "from sklearn.metrics.pairwise import cosine_similarity\n",
    "import pickle"
   ]
  },
  {
   "cell_type": "markdown",
   "metadata": {},
   "source": [
    "## I. Récupération des données\n",
    "\n",
    "On récupère les données de 10 000 films grâce à l'API TMDB"
   ]
  },
  {
   "cell_type": "code",
   "execution_count": 6,
   "metadata": {},
   "outputs": [
    {
     "name": "stdout",
     "output_type": "stream",
     "text": [
      "Film Killers of the Flower Moon récupéré avec détails supplémentaires.\n",
      "Film Robot Apocalypse récupéré avec détails supplémentaires.\n",
      "Film Freelance récupéré avec détails supplémentaires.\n",
      "Film Wonka récupéré avec détails supplémentaires.\n",
      "Film Trolls Band Together récupéré avec détails supplémentaires.\n",
      "Film Leave the World Behind récupéré avec détails supplémentaires.\n",
      "Film Leo récupéré avec détails supplémentaires.\n",
      "Film Good Boy récupéré avec détails supplémentaires.\n",
      "Film A Man of Reason récupéré avec détails supplémentaires.\n",
      "Film Oppenheimer récupéré avec détails supplémentaires.\n",
      "Film Five Nights at Freddy's récupéré avec détails supplémentaires.\n",
      "Film The Creator récupéré avec détails supplémentaires.\n",
      "Film The Advent Calendar récupéré avec détails supplémentaires.\n",
      "Film Rumble Through the Dark récupéré avec détails supplémentaires.\n",
      "Film Fast X récupéré avec détails supplémentaires.\n",
      "Film Fast Charlie récupéré avec détails supplémentaires.\n",
      "Film Merry Little Batman récupéré avec détails supplémentaires.\n",
      "Film Galaxy Games récupéré avec détails supplémentaires.\n",
      "Film The Dark Kingdom récupéré avec détails supplémentaires.\n",
      "Film Krampus récupéré avec détails supplémentaires.\n",
      "Page 1 récupérée. Total de films récupérés : 20\n",
      "Récupération des films avec détails complets terminée. Les données ont été enregistrées dans movies_data_complete.json.\n"
     ]
    }
   ],
   "source": []
  },
  {
   "cell_type": "markdown",
   "metadata": {},
   "source": [
    "On récupère les données qui nous seront utile pour la création de l'interface de l'application."
   ]
  },
  {
   "cell_type": "code",
   "execution_count": 35,
   "metadata": {},
   "outputs": [],
   "source": [
    "movies_data=pd.read_json('movies_data_complete.json')\n",
    "selected_columns=['id','title','original_title','overview','release_date','adult','popularity','vote_average','vote_count','poster_path','runtime','genres','production_companies','production_countries','spoken_languages','credits','keywords']\n",
    "movies_data=movies_data[selected_columns]\n",
    "movies_data= movies_data.drop_duplicates(subset='title', keep='first')"
   ]
  },
  {
   "cell_type": "code",
   "execution_count": 36,
   "metadata": {},
   "outputs": [],
   "source": [
    "# Convertir la colonne 'release_date' en type datetime si ce n'est pas déjà le cas\n",
    "movies_data['release_date'] = pd.to_datetime(movies_data['release_date'])\n",
    "\n",
    "# Filtrer les films dont la date est antérieure à '2023-10-18'\n",
    "movies_data = movies_data[movies_data['release_date'] <= '2023-12-31']\n",
    "movies_data.reset_index(drop=True)\n",
    "movies_data.dropna(axis=0,inplace=True)"
   ]
  },
  {
   "cell_type": "markdown",
   "metadata": {},
   "source": [
    "On contrôle qu'il n'y pas de variables avec des informations manquantes. On fait le choix d'enlever le film dès lors qu'il manque une info c'est assez restrictif A FAIRE PLUS TARD"
   ]
  },
  {
   "cell_type": "markdown",
   "metadata": {},
   "source": [
    "Pour notre modèle on conserve que les films dont les features ci dessous existent ça sera plus crédible"
   ]
  },
  {
   "cell_type": "code",
   "execution_count": 38,
   "metadata": {},
   "outputs": [
    {
     "data": {
      "text/plain": [
       "[{'id': 80, 'name': 'Crime'},\n",
       " {'id': 18, 'name': 'Drama'},\n",
       " {'id': 36, 'name': 'History'}]"
      ]
     },
     "metadata": {},
     "output_type": "display_data"
    },
    {
     "data": {
      "text/plain": [
       "{'id': 1157, 'name': 'husband wife relationship'}"
      ]
     },
     "metadata": {},
     "output_type": "display_data"
    },
    {
     "data": {
      "text/plain": [
       "{'adult': False,\n",
       " 'gender': 2,\n",
       " 'id': 6193,\n",
       " 'known_for_department': 'Acting',\n",
       " 'name': 'Leonardo DiCaprio',\n",
       " 'original_name': 'Leonardo DiCaprio',\n",
       " 'popularity': 56.044,\n",
       " 'profile_path': '/5Brc5dLifH3UInk3wUaCuGXpCqy.jpg',\n",
       " 'cast_id': 0,\n",
       " 'character': 'Ernest Burkhart',\n",
       " 'credit_id': '5968f416c3a3686f60021bc8',\n",
       " 'order': 0}"
      ]
     },
     "metadata": {},
     "output_type": "display_data"
    }
   ],
   "source": [
    "movies_reco=movies_data[[\"id\",\"title\",\"overview\",\"genres\",\"keywords\",\"credits\"]]\n",
    "display(movies_reco.loc[0].genres,\n",
    "movies_data.loc[0].keywords[\"keywords\"][0],\n",
    "movies_data.loc[0].credits[\"cast\"][0])"
   ]
  },
  {
   "cell_type": "markdown",
   "metadata": {},
   "source": [
    "On nettoie les colonnes genres, keywords, credits"
   ]
  },
  {
   "cell_type": "code",
   "execution_count": 39,
   "metadata": {},
   "outputs": [],
   "source": [
    "def convert(text):\n",
    "    L = []\n",
    "    for i in text:\n",
    "        L.append(i[\"name\"]) \n",
    "    return L \n"
   ]
  },
  {
   "cell_type": "code",
   "execution_count": 40,
   "metadata": {},
   "outputs": [
    {
     "name": "stderr",
     "output_type": "stream",
     "text": [
      "W:\\AppData\\Local\\Temp\\ipykernel_11172\\1391644150.py:1: SettingWithCopyWarning: \n",
      "A value is trying to be set on a copy of a slice from a DataFrame.\n",
      "Try using .loc[row_indexer,col_indexer] = value instead\n",
      "\n",
      "See the caveats in the documentation: https://pandas.pydata.org/pandas-docs/stable/user_guide/indexing.html#returning-a-view-versus-a-copy\n",
      "  movies_reco['genres'] = movies_reco['genres'].apply(convert)\n",
      "W:\\AppData\\Local\\Temp\\ipykernel_11172\\1391644150.py:2: SettingWithCopyWarning: \n",
      "A value is trying to be set on a copy of a slice from a DataFrame.\n",
      "Try using .loc[row_indexer,col_indexer] = value instead\n",
      "\n",
      "See the caveats in the documentation: https://pandas.pydata.org/pandas-docs/stable/user_guide/indexing.html#returning-a-view-versus-a-copy\n",
      "  movies_reco['keywords'] = movies_reco['keywords'].apply(lambda x: x['keywords'] if isinstance(x, dict) and 'keywords' in x else None) # regarder Robot Apocalypse Keywords\n"
     ]
    },
    {
     "data": {
      "text/html": [
       "<div>\n",
       "<style scoped>\n",
       "    .dataframe tbody tr th:only-of-type {\n",
       "        vertical-align: middle;\n",
       "    }\n",
       "\n",
       "    .dataframe tbody tr th {\n",
       "        vertical-align: top;\n",
       "    }\n",
       "\n",
       "    .dataframe thead th {\n",
       "        text-align: right;\n",
       "    }\n",
       "</style>\n",
       "<table border=\"1\" class=\"dataframe\">\n",
       "  <thead>\n",
       "    <tr style=\"text-align: right;\">\n",
       "      <th></th>\n",
       "      <th>id</th>\n",
       "      <th>title</th>\n",
       "      <th>overview</th>\n",
       "      <th>genres</th>\n",
       "      <th>keywords</th>\n",
       "      <th>cast</th>\n",
       "      <th>crew</th>\n",
       "    </tr>\n",
       "  </thead>\n",
       "  <tbody>\n",
       "    <tr>\n",
       "      <th>0</th>\n",
       "      <td>466420</td>\n",
       "      <td>Killers of the Flower Moon</td>\n",
       "      <td>When oil is discovered in 1920s Oklahoma under...</td>\n",
       "      <td>[Crime, Drama, History]</td>\n",
       "      <td>[husband wife relationship, based on novel or ...</td>\n",
       "      <td>[{'adult': False, 'gender': 2, 'id': 6193, 'kn...</td>\n",
       "      <td>[{'adult': False, 'gender': 2, 'id': 27, 'know...</td>\n",
       "    </tr>\n",
       "    <tr>\n",
       "      <th>1</th>\n",
       "      <td>897087</td>\n",
       "      <td>Freelance</td>\n",
       "      <td>An ex-special forces operative takes a job to ...</td>\n",
       "      <td>[Action, Comedy]</td>\n",
       "      <td>[coup d'etat, dictatorship, political assassin...</td>\n",
       "      <td>[{'adult': False, 'gender': 2, 'id': 56446, 'k...</td>\n",
       "      <td>[{'adult': True, 'gender': 2, 'id': 997, 'know...</td>\n",
       "    </tr>\n",
       "    <tr>\n",
       "      <th>2</th>\n",
       "      <td>787699</td>\n",
       "      <td>Wonka</td>\n",
       "      <td>Willy Wonka – chock-full of ideas and determin...</td>\n",
       "      <td>[Comedy, Family, Fantasy]</td>\n",
       "      <td>[chocolate, musical, prequel]</td>\n",
       "      <td>[{'adult': False, 'gender': 2, 'id': 1190668, ...</td>\n",
       "      <td>[{'adult': False, 'gender': 2, 'id': 1299, 'kn...</td>\n",
       "    </tr>\n",
       "    <tr>\n",
       "      <th>3</th>\n",
       "      <td>901362</td>\n",
       "      <td>Trolls Band Together</td>\n",
       "      <td>When Branch's brother, Floyd, is kidnapped for...</td>\n",
       "      <td>[Animation, Family, Music, Fantasy, Comedy]</td>\n",
       "      <td>[pop star, brother, musical, sequel, based on ...</td>\n",
       "      <td>[{'adult': False, 'gender': 1, 'id': 84223, 'k...</td>\n",
       "      <td>[{'adult': False, 'gender': 2, 'id': 10572, 'k...</td>\n",
       "    </tr>\n",
       "    <tr>\n",
       "      <th>4</th>\n",
       "      <td>1075794</td>\n",
       "      <td>Leo</td>\n",
       "      <td>Jaded 74-year-old lizard Leo has been stuck in...</td>\n",
       "      <td>[Animation, Comedy, Family]</td>\n",
       "      <td>[classroom, musical, bucket list]</td>\n",
       "      <td>[{'adult': False, 'gender': 2, 'id': 19292, 'k...</td>\n",
       "      <td>[{'adult': False, 'gender': 0, 'id': 7963, 'kn...</td>\n",
       "    </tr>\n",
       "  </tbody>\n",
       "</table>\n",
       "</div>"
      ],
      "text/plain": [
       "        id                       title  \\\n",
       "0   466420  Killers of the Flower Moon   \n",
       "1   897087                   Freelance   \n",
       "2   787699                       Wonka   \n",
       "3   901362        Trolls Band Together   \n",
       "4  1075794                         Leo   \n",
       "\n",
       "                                            overview  \\\n",
       "0  When oil is discovered in 1920s Oklahoma under...   \n",
       "1  An ex-special forces operative takes a job to ...   \n",
       "2  Willy Wonka – chock-full of ideas and determin...   \n",
       "3  When Branch's brother, Floyd, is kidnapped for...   \n",
       "4  Jaded 74-year-old lizard Leo has been stuck in...   \n",
       "\n",
       "                                        genres  \\\n",
       "0                      [Crime, Drama, History]   \n",
       "1                             [Action, Comedy]   \n",
       "2                    [Comedy, Family, Fantasy]   \n",
       "3  [Animation, Family, Music, Fantasy, Comedy]   \n",
       "4                  [Animation, Comedy, Family]   \n",
       "\n",
       "                                            keywords  \\\n",
       "0  [husband wife relationship, based on novel or ...   \n",
       "1  [coup d'etat, dictatorship, political assassin...   \n",
       "2                      [chocolate, musical, prequel]   \n",
       "3  [pop star, brother, musical, sequel, based on ...   \n",
       "4                  [classroom, musical, bucket list]   \n",
       "\n",
       "                                                cast  \\\n",
       "0  [{'adult': False, 'gender': 2, 'id': 6193, 'kn...   \n",
       "1  [{'adult': False, 'gender': 2, 'id': 56446, 'k...   \n",
       "2  [{'adult': False, 'gender': 2, 'id': 1190668, ...   \n",
       "3  [{'adult': False, 'gender': 1, 'id': 84223, 'k...   \n",
       "4  [{'adult': False, 'gender': 2, 'id': 19292, 'k...   \n",
       "\n",
       "                                                crew  \n",
       "0  [{'adult': False, 'gender': 2, 'id': 27, 'know...  \n",
       "1  [{'adult': True, 'gender': 2, 'id': 997, 'know...  \n",
       "2  [{'adult': False, 'gender': 2, 'id': 1299, 'kn...  \n",
       "3  [{'adult': False, 'gender': 2, 'id': 10572, 'k...  \n",
       "4  [{'adult': False, 'gender': 0, 'id': 7963, 'kn...  "
      ]
     },
     "execution_count": 40,
     "metadata": {},
     "output_type": "execute_result"
    }
   ],
   "source": [
    "movies_reco['genres'] = movies_reco['genres'].apply(convert)\n",
    "movies_reco['keywords'] = movies_reco['keywords'].apply(lambda x: x['keywords'] if isinstance(x, dict) and 'keywords' in x else None) # regarder Robot Apocalypse Keywords\n",
    "movies_reco = movies_reco[movies_reco['keywords'].apply(lambda x: isinstance(x, list) and len(x) > 0)]\n",
    "movies_reco[\"keywords\"]=movies_reco[\"keywords\"].apply(convert)\n",
    "\n",
    "movies_reco['cast'] = movies_reco['credits'].apply(lambda x: x.get('cast') if isinstance(x, dict) else None)\n",
    "movies_reco['crew'] = movies_reco['credits'].apply(lambda x: x.get('crew') if isinstance(x, dict) else None)\n",
    "movies_reco.drop(\"credits\", axis=1,inplace=True)\n",
    "movies_reco.head()"
   ]
  },
  {
   "cell_type": "code",
   "execution_count": 42,
   "metadata": {},
   "outputs": [],
   "source": [
    "def convert3(text):\n",
    "    L=[]\n",
    "    counter=0\n",
    "    for i in text:\n",
    "        if counter<3:\n",
    "            L.append(i[\"name\"])\n",
    "        counter+=1\n",
    "    return L\n",
    "movies_reco[\"cast\"]=movies_reco[\"cast\"].apply(convert3)"
   ]
  },
  {
   "cell_type": "markdown",
   "metadata": {},
   "source": [
    "Ainsi, les colonnes genres, keywords, cast et crew sont exploitables."
   ]
  },
  {
   "cell_type": "code",
   "execution_count": 45,
   "metadata": {},
   "outputs": [
    {
     "data": {
      "text/html": [
       "<div>\n",
       "<style scoped>\n",
       "    .dataframe tbody tr th:only-of-type {\n",
       "        vertical-align: middle;\n",
       "    }\n",
       "\n",
       "    .dataframe tbody tr th {\n",
       "        vertical-align: top;\n",
       "    }\n",
       "\n",
       "    .dataframe thead th {\n",
       "        text-align: right;\n",
       "    }\n",
       "</style>\n",
       "<table border=\"1\" class=\"dataframe\">\n",
       "  <thead>\n",
       "    <tr style=\"text-align: right;\">\n",
       "      <th></th>\n",
       "      <th>id</th>\n",
       "      <th>title</th>\n",
       "      <th>overview</th>\n",
       "      <th>genres</th>\n",
       "      <th>keywords</th>\n",
       "      <th>cast</th>\n",
       "      <th>crew</th>\n",
       "      <th>title_bis</th>\n",
       "    </tr>\n",
       "  </thead>\n",
       "  <tbody>\n",
       "    <tr>\n",
       "      <th>0</th>\n",
       "      <td>466420</td>\n",
       "      <td>Killers of the Flower Moon</td>\n",
       "      <td>[When, oil, is, discovered, in, 1920s, Oklahom...</td>\n",
       "      <td>[Crime, Drama, History]</td>\n",
       "      <td>[husband wife relationship, based on novel or ...</td>\n",
       "      <td>[Leonardo DiCaprio, Lily Gladstone, Robert De ...</td>\n",
       "      <td>[Martin Scorsese]</td>\n",
       "      <td>[Killers, of, the, Flower, Moon]</td>\n",
       "    </tr>\n",
       "    <tr>\n",
       "      <th>1</th>\n",
       "      <td>897087</td>\n",
       "      <td>Freelance</td>\n",
       "      <td>[An, ex-special, forces, operative, takes, a, ...</td>\n",
       "      <td>[Action, Comedy]</td>\n",
       "      <td>[coup d'etat, dictatorship, political assassin...</td>\n",
       "      <td>[John Cena, Alison Brie, Juan Pablo Raba]</td>\n",
       "      <td>[Pierre Morel]</td>\n",
       "      <td>[Freelance]</td>\n",
       "    </tr>\n",
       "    <tr>\n",
       "      <th>2</th>\n",
       "      <td>787699</td>\n",
       "      <td>Wonka</td>\n",
       "      <td>[Willy, Wonka, –, chock-full, of, ideas, and, ...</td>\n",
       "      <td>[Comedy, Family, Fantasy]</td>\n",
       "      <td>[chocolate, musical, prequel]</td>\n",
       "      <td>[Timothée Chalamet, Calah Lane, Keegan-Michael...</td>\n",
       "      <td>[Paul King]</td>\n",
       "      <td>[Wonka]</td>\n",
       "    </tr>\n",
       "    <tr>\n",
       "      <th>3</th>\n",
       "      <td>901362</td>\n",
       "      <td>Trolls Band Together</td>\n",
       "      <td>[When, Branch's, brother,, Floyd,, is, kidnapp...</td>\n",
       "      <td>[Animation, Family, Music, Fantasy, Comedy]</td>\n",
       "      <td>[pop star, brother, musical, sequel, based on ...</td>\n",
       "      <td>[Anna Kendrick, Justin Timberlake, Camila Cabe...</td>\n",
       "      <td>[Walt Dohrn]</td>\n",
       "      <td>[Trolls, Band, Together]</td>\n",
       "    </tr>\n",
       "    <tr>\n",
       "      <th>4</th>\n",
       "      <td>1075794</td>\n",
       "      <td>Leo</td>\n",
       "      <td>[Jaded, 74-year-old, lizard, Leo, has, been, s...</td>\n",
       "      <td>[Animation, Comedy, Family]</td>\n",
       "      <td>[classroom, musical, bucket list]</td>\n",
       "      <td>[Adam Sandler, Bill Burr, Cecily Strong]</td>\n",
       "      <td>[Robert Smigel]</td>\n",
       "      <td>[Leo]</td>\n",
       "    </tr>\n",
       "  </tbody>\n",
       "</table>\n",
       "</div>"
      ],
      "text/plain": [
       "        id                       title  \\\n",
       "0   466420  Killers of the Flower Moon   \n",
       "1   897087                   Freelance   \n",
       "2   787699                       Wonka   \n",
       "3   901362        Trolls Band Together   \n",
       "4  1075794                         Leo   \n",
       "\n",
       "                                            overview  \\\n",
       "0  [When, oil, is, discovered, in, 1920s, Oklahom...   \n",
       "1  [An, ex-special, forces, operative, takes, a, ...   \n",
       "2  [Willy, Wonka, –, chock-full, of, ideas, and, ...   \n",
       "3  [When, Branch's, brother,, Floyd,, is, kidnapp...   \n",
       "4  [Jaded, 74-year-old, lizard, Leo, has, been, s...   \n",
       "\n",
       "                                        genres  \\\n",
       "0                      [Crime, Drama, History]   \n",
       "1                             [Action, Comedy]   \n",
       "2                    [Comedy, Family, Fantasy]   \n",
       "3  [Animation, Family, Music, Fantasy, Comedy]   \n",
       "4                  [Animation, Comedy, Family]   \n",
       "\n",
       "                                            keywords  \\\n",
       "0  [husband wife relationship, based on novel or ...   \n",
       "1  [coup d'etat, dictatorship, political assassin...   \n",
       "2                      [chocolate, musical, prequel]   \n",
       "3  [pop star, brother, musical, sequel, based on ...   \n",
       "4                  [classroom, musical, bucket list]   \n",
       "\n",
       "                                                cast               crew  \\\n",
       "0  [Leonardo DiCaprio, Lily Gladstone, Robert De ...  [Martin Scorsese]   \n",
       "1          [John Cena, Alison Brie, Juan Pablo Raba]     [Pierre Morel]   \n",
       "2  [Timothée Chalamet, Calah Lane, Keegan-Michael...        [Paul King]   \n",
       "3  [Anna Kendrick, Justin Timberlake, Camila Cabe...       [Walt Dohrn]   \n",
       "4           [Adam Sandler, Bill Burr, Cecily Strong]    [Robert Smigel]   \n",
       "\n",
       "                          title_bis  \n",
       "0  [Killers, of, the, Flower, Moon]  \n",
       "1                       [Freelance]  \n",
       "2                           [Wonka]  \n",
       "3          [Trolls, Band, Together]  \n",
       "4                             [Leo]  "
      ]
     },
     "execution_count": 45,
     "metadata": {},
     "output_type": "execute_result"
    }
   ],
   "source": [
    "def fetch_director(text):\n",
    "    L = []\n",
    "    for i in text:\n",
    "        if i['job'] == 'Director':\n",
    "            L.append(i['name'])\n",
    "            break\n",
    "    return L \n",
    "movies_reco[\"crew\"]=movies_reco[\"crew\"].apply(fetch_director)\n",
    "movies_reco['overview'] = movies_reco['overview'].apply(lambda x:x.split())\n",
    "movies_reco[\"title_bis\"]=movies_reco[\"title\"].apply(lambda x:x.split())\n",
    "movies_reco.head()"
   ]
  },
  {
   "cell_type": "code",
   "execution_count": 46,
   "metadata": {},
   "outputs": [
    {
     "data": {
      "text/html": [
       "<div>\n",
       "<style scoped>\n",
       "    .dataframe tbody tr th:only-of-type {\n",
       "        vertical-align: middle;\n",
       "    }\n",
       "\n",
       "    .dataframe tbody tr th {\n",
       "        vertical-align: top;\n",
       "    }\n",
       "\n",
       "    .dataframe thead th {\n",
       "        text-align: right;\n",
       "    }\n",
       "</style>\n",
       "<table border=\"1\" class=\"dataframe\">\n",
       "  <thead>\n",
       "    <tr style=\"text-align: right;\">\n",
       "      <th></th>\n",
       "      <th>id</th>\n",
       "      <th>title</th>\n",
       "      <th>overview</th>\n",
       "      <th>genres</th>\n",
       "      <th>keywords</th>\n",
       "      <th>cast</th>\n",
       "      <th>crew</th>\n",
       "      <th>title_bis</th>\n",
       "    </tr>\n",
       "  </thead>\n",
       "  <tbody>\n",
       "    <tr>\n",
       "      <th>0</th>\n",
       "      <td>466420</td>\n",
       "      <td>Killers of the Flower Moon</td>\n",
       "      <td>[When, oil, is, discovered, in, 1920s, Oklahom...</td>\n",
       "      <td>[Crime, Drama, History]</td>\n",
       "      <td>[husbandwiferelationship, basedonnovelorbook, ...</td>\n",
       "      <td>[LeonardoDiCaprio, LilyGladstone, RobertDeNiro]</td>\n",
       "      <td>[MartinScorsese]</td>\n",
       "      <td>[Killers, of, the, Flower, Moon]</td>\n",
       "    </tr>\n",
       "    <tr>\n",
       "      <th>1</th>\n",
       "      <td>897087</td>\n",
       "      <td>Freelance</td>\n",
       "      <td>[An, ex-special, forces, operative, takes, a, ...</td>\n",
       "      <td>[Action, Comedy]</td>\n",
       "      <td>[coupd'etat, dictatorship, politicalassassinat...</td>\n",
       "      <td>[JohnCena, AlisonBrie, JuanPabloRaba]</td>\n",
       "      <td>[PierreMorel]</td>\n",
       "      <td>[Freelance]</td>\n",
       "    </tr>\n",
       "    <tr>\n",
       "      <th>2</th>\n",
       "      <td>787699</td>\n",
       "      <td>Wonka</td>\n",
       "      <td>[Willy, Wonka, –, chock-full, of, ideas, and, ...</td>\n",
       "      <td>[Comedy, Family, Fantasy]</td>\n",
       "      <td>[chocolate, musical, prequel]</td>\n",
       "      <td>[TimothéeChalamet, CalahLane, Keegan-MichaelKey]</td>\n",
       "      <td>[PaulKing]</td>\n",
       "      <td>[Wonka]</td>\n",
       "    </tr>\n",
       "    <tr>\n",
       "      <th>3</th>\n",
       "      <td>901362</td>\n",
       "      <td>Trolls Band Together</td>\n",
       "      <td>[When, Branch's, brother,, Floyd,, is, kidnapp...</td>\n",
       "      <td>[Animation, Family, Music, Fantasy, Comedy]</td>\n",
       "      <td>[popstar, brother, musical, sequel, basedontoy...</td>\n",
       "      <td>[AnnaKendrick, JustinTimberlake, CamilaCabello]</td>\n",
       "      <td>[WaltDohrn]</td>\n",
       "      <td>[Trolls, Band, Together]</td>\n",
       "    </tr>\n",
       "    <tr>\n",
       "      <th>4</th>\n",
       "      <td>1075794</td>\n",
       "      <td>Leo</td>\n",
       "      <td>[Jaded, 74-year-old, lizard, Leo, has, been, s...</td>\n",
       "      <td>[Animation, Comedy, Family]</td>\n",
       "      <td>[classroom, musical, bucketlist]</td>\n",
       "      <td>[AdamSandler, BillBurr, CecilyStrong]</td>\n",
       "      <td>[RobertSmigel]</td>\n",
       "      <td>[Leo]</td>\n",
       "    </tr>\n",
       "  </tbody>\n",
       "</table>\n",
       "</div>"
      ],
      "text/plain": [
       "        id                       title  \\\n",
       "0   466420  Killers of the Flower Moon   \n",
       "1   897087                   Freelance   \n",
       "2   787699                       Wonka   \n",
       "3   901362        Trolls Band Together   \n",
       "4  1075794                         Leo   \n",
       "\n",
       "                                            overview  \\\n",
       "0  [When, oil, is, discovered, in, 1920s, Oklahom...   \n",
       "1  [An, ex-special, forces, operative, takes, a, ...   \n",
       "2  [Willy, Wonka, –, chock-full, of, ideas, and, ...   \n",
       "3  [When, Branch's, brother,, Floyd,, is, kidnapp...   \n",
       "4  [Jaded, 74-year-old, lizard, Leo, has, been, s...   \n",
       "\n",
       "                                        genres  \\\n",
       "0                      [Crime, Drama, History]   \n",
       "1                             [Action, Comedy]   \n",
       "2                    [Comedy, Family, Fantasy]   \n",
       "3  [Animation, Family, Music, Fantasy, Comedy]   \n",
       "4                  [Animation, Comedy, Family]   \n",
       "\n",
       "                                            keywords  \\\n",
       "0  [husbandwiferelationship, basedonnovelorbook, ...   \n",
       "1  [coupd'etat, dictatorship, politicalassassinat...   \n",
       "2                      [chocolate, musical, prequel]   \n",
       "3  [popstar, brother, musical, sequel, basedontoy...   \n",
       "4                   [classroom, musical, bucketlist]   \n",
       "\n",
       "                                               cast              crew  \\\n",
       "0   [LeonardoDiCaprio, LilyGladstone, RobertDeNiro]  [MartinScorsese]   \n",
       "1             [JohnCena, AlisonBrie, JuanPabloRaba]     [PierreMorel]   \n",
       "2  [TimothéeChalamet, CalahLane, Keegan-MichaelKey]        [PaulKing]   \n",
       "3   [AnnaKendrick, JustinTimberlake, CamilaCabello]       [WaltDohrn]   \n",
       "4             [AdamSandler, BillBurr, CecilyStrong]    [RobertSmigel]   \n",
       "\n",
       "                          title_bis  \n",
       "0  [Killers, of, the, Flower, Moon]  \n",
       "1                       [Freelance]  \n",
       "2                           [Wonka]  \n",
       "3          [Trolls, Band, Together]  \n",
       "4                             [Leo]  "
      ]
     },
     "execution_count": 46,
     "metadata": {},
     "output_type": "execute_result"
    }
   ],
   "source": [
    "def collapse(L):\n",
    "    L1 = []\n",
    "    for i in L:\n",
    "        L1.append(i.replace(\" \",\"\"))\n",
    "    return L1\n",
    "movies_reco['cast'] = movies_reco['cast'].apply(collapse)\n",
    "movies_reco['crew'] = movies_reco['crew'].apply(collapse)\n",
    "movies_reco['genres'] = movies_reco['genres'].apply(collapse)\n",
    "movies_reco['keywords'] = movies_reco['keywords'].apply(collapse)\n",
    "movies_reco.head()"
   ]
  },
  {
   "cell_type": "code",
   "execution_count": 47,
   "metadata": {},
   "outputs": [
    {
     "data": {
      "text/html": [
       "<div>\n",
       "<style scoped>\n",
       "    .dataframe tbody tr th:only-of-type {\n",
       "        vertical-align: middle;\n",
       "    }\n",
       "\n",
       "    .dataframe tbody tr th {\n",
       "        vertical-align: top;\n",
       "    }\n",
       "\n",
       "    .dataframe thead th {\n",
       "        text-align: right;\n",
       "    }\n",
       "</style>\n",
       "<table border=\"1\" class=\"dataframe\">\n",
       "  <thead>\n",
       "    <tr style=\"text-align: right;\">\n",
       "      <th></th>\n",
       "      <th>id</th>\n",
       "      <th>title</th>\n",
       "      <th>label</th>\n",
       "    </tr>\n",
       "  </thead>\n",
       "  <tbody>\n",
       "    <tr>\n",
       "      <th>0</th>\n",
       "      <td>466420</td>\n",
       "      <td>Killers of the Flower Moon</td>\n",
       "      <td>When oil is discovered in 1920s Oklahoma under...</td>\n",
       "    </tr>\n",
       "    <tr>\n",
       "      <th>1</th>\n",
       "      <td>897087</td>\n",
       "      <td>Freelance</td>\n",
       "      <td>An ex-special forces operative takes a job to ...</td>\n",
       "    </tr>\n",
       "    <tr>\n",
       "      <th>2</th>\n",
       "      <td>787699</td>\n",
       "      <td>Wonka</td>\n",
       "      <td>Willy Wonka – chock-full of ideas and determin...</td>\n",
       "    </tr>\n",
       "    <tr>\n",
       "      <th>3</th>\n",
       "      <td>901362</td>\n",
       "      <td>Trolls Band Together</td>\n",
       "      <td>When Branch's brother, Floyd, is kidnapped for...</td>\n",
       "    </tr>\n",
       "    <tr>\n",
       "      <th>4</th>\n",
       "      <td>1075794</td>\n",
       "      <td>Leo</td>\n",
       "      <td>Jaded 74-year-old lizard Leo has been stuck in...</td>\n",
       "    </tr>\n",
       "  </tbody>\n",
       "</table>\n",
       "</div>"
      ],
      "text/plain": [
       "        id                       title  \\\n",
       "0   466420  Killers of the Flower Moon   \n",
       "1   897087                   Freelance   \n",
       "2   787699                       Wonka   \n",
       "3   901362        Trolls Band Together   \n",
       "4  1075794                         Leo   \n",
       "\n",
       "                                               label  \n",
       "0  When oil is discovered in 1920s Oklahoma under...  \n",
       "1  An ex-special forces operative takes a job to ...  \n",
       "2  Willy Wonka – chock-full of ideas and determin...  \n",
       "3  When Branch's brother, Floyd, is kidnapped for...  \n",
       "4  Jaded 74-year-old lizard Leo has been stuck in...  "
      ]
     },
     "execution_count": 47,
     "metadata": {},
     "output_type": "execute_result"
    }
   ],
   "source": [
    "movies_reco['label'] = movies_reco['overview']+movies_reco['title_bis']+movies_reco['genres'] + movies_reco['keywords'] + movies_reco['cast'] + movies_reco['crew']\n",
    "data_model=movies_reco.drop(columns=['overview','genres','keywords','cast','crew',\"title_bis\"])\n",
    "data_model['label'] = data_model['label'].apply(lambda x: \" \".join(x))\n",
    "data_model.head()"
   ]
  },
  {
   "cell_type": "code",
   "execution_count": 48,
   "metadata": {},
   "outputs": [
    {
     "data": {
      "text/html": [
       "<div>\n",
       "<style scoped>\n",
       "    .dataframe tbody tr th:only-of-type {\n",
       "        vertical-align: middle;\n",
       "    }\n",
       "\n",
       "    .dataframe tbody tr th {\n",
       "        vertical-align: top;\n",
       "    }\n",
       "\n",
       "    .dataframe thead th {\n",
       "        text-align: right;\n",
       "    }\n",
       "</style>\n",
       "<table border=\"1\" class=\"dataframe\">\n",
       "  <thead>\n",
       "    <tr style=\"text-align: right;\">\n",
       "      <th></th>\n",
       "      <th>id</th>\n",
       "      <th>title</th>\n",
       "      <th>label</th>\n",
       "    </tr>\n",
       "  </thead>\n",
       "  <tbody>\n",
       "    <tr>\n",
       "      <th>0</th>\n",
       "      <td>466420</td>\n",
       "      <td>Killers of the Flower Moon</td>\n",
       "      <td>when oil is discov in 1920 oklahoma under osag...</td>\n",
       "    </tr>\n",
       "    <tr>\n",
       "      <th>1</th>\n",
       "      <td>897087</td>\n",
       "      <td>Freelance</td>\n",
       "      <td>an ex-speci forc oper take a job to provid sec...</td>\n",
       "    </tr>\n",
       "    <tr>\n",
       "      <th>2</th>\n",
       "      <td>787699</td>\n",
       "      <td>Wonka</td>\n",
       "      <td>willi wonka – chock-ful of idea and determin t...</td>\n",
       "    </tr>\n",
       "    <tr>\n",
       "      <th>3</th>\n",
       "      <td>901362</td>\n",
       "      <td>Trolls Band Together</td>\n",
       "      <td>when branch' brother, floyd, is kidnap for hi ...</td>\n",
       "    </tr>\n",
       "    <tr>\n",
       "      <th>4</th>\n",
       "      <td>1075794</td>\n",
       "      <td>Leo</td>\n",
       "      <td>jade 74-year-old lizard leo ha been stuck in t...</td>\n",
       "    </tr>\n",
       "  </tbody>\n",
       "</table>\n",
       "</div>"
      ],
      "text/plain": [
       "        id                       title  \\\n",
       "0   466420  Killers of the Flower Moon   \n",
       "1   897087                   Freelance   \n",
       "2   787699                       Wonka   \n",
       "3   901362        Trolls Band Together   \n",
       "4  1075794                         Leo   \n",
       "\n",
       "                                               label  \n",
       "0  when oil is discov in 1920 oklahoma under osag...  \n",
       "1  an ex-speci forc oper take a job to provid sec...  \n",
       "2  willi wonka – chock-ful of idea and determin t...  \n",
       "3  when branch' brother, floyd, is kidnap for hi ...  \n",
       "4  jade 74-year-old lizard leo ha been stuck in t...  "
      ]
     },
     "execution_count": 48,
     "metadata": {},
     "output_type": "execute_result"
    }
   ],
   "source": [
    "ps =PorterStemmer()\n",
    "def stem(text): # stem(\"dancing\")=>\"danc\"\n",
    "    y=[]\n",
    "    for i in text.split():\n",
    "        y.append(ps.stem(i))\n",
    "    return \" \".join(y)\n",
    "data_model[\"label\"]=data_model[\"label\"].apply(stem)\n",
    "data_model[\"label\"]=data_model[\"label\"].apply(lambda x : x.lower())\n",
    "data_model.head()"
   ]
  },
  {
   "cell_type": "code",
   "execution_count": 49,
   "metadata": {},
   "outputs": [
    {
     "name": "stdout",
     "output_type": "stream",
     "text": [
      "<class 'pandas.core.frame.DataFrame'>\n",
      "Index: 8302 entries, 0 to 9999\n",
      "Data columns (total 3 columns):\n",
      " #   Column  Non-Null Count  Dtype \n",
      "---  ------  --------------  ----- \n",
      " 0   id      8302 non-null   int64 \n",
      " 1   title   8302 non-null   object\n",
      " 2   label   8302 non-null   object\n",
      "dtypes: int64(1), object(2)\n",
      "memory usage: 259.4+ KB\n"
     ]
    }
   ],
   "source": [
    "data_model.info()"
   ]
  },
  {
   "cell_type": "code",
   "execution_count": 50,
   "metadata": {},
   "outputs": [],
   "source": [
    "from sklearn.feature_extraction.text import CountVectorizer\n",
    "cv = CountVectorizer(max_features=5000,stop_words='english')\n",
    "vector = cv.fit_transform(data_model['label']).toarray()"
   ]
  },
  {
   "cell_type": "code",
   "execution_count": 51,
   "metadata": {},
   "outputs": [
    {
     "data": {
      "text/plain": [
       "array([[1.        , 0.        , 0.        , ..., 0.01690309, 0.06172134,\n",
       "        0.        ],\n",
       "       [0.        , 1.        , 0.03846154, ..., 0.09376145, 0.        ,\n",
       "        0.03580574],\n",
       "       [0.        , 0.03846154, 1.        , ..., 0.02344036, 0.0855921 ,\n",
       "        0.10741723],\n",
       "       ...,\n",
       "       [0.01690309, 0.09376145, 0.02344036, ..., 1.        , 0.02608203,\n",
       "        0.04364358],\n",
       "       [0.06172134, 0.        , 0.0855921 , ..., 0.02608203, 1.        ,\n",
       "        0.        ],\n",
       "       [0.        , 0.03580574, 0.10741723, ..., 0.04364358, 0.        ,\n",
       "        1.        ]])"
      ]
     },
     "execution_count": 51,
     "metadata": {},
     "output_type": "execute_result"
    }
   ],
   "source": [
    "from sklearn.metrics.pairwise import cosine_similarity\n",
    "similarity = cosine_similarity(vector)\n",
    "similarity"
   ]
  },
  {
   "cell_type": "code",
   "execution_count": 52,
   "metadata": {},
   "outputs": [
    {
     "data": {
      "text/plain": [
       "(8302, 8302)"
      ]
     },
     "execution_count": 52,
     "metadata": {},
     "output_type": "execute_result"
    }
   ],
   "source": [
    "similarity.shape"
   ]
  },
  {
   "cell_type": "code",
   "execution_count": 53,
   "metadata": {},
   "outputs": [],
   "source": [
    "def recommend(movie,m):\n",
    "    index = data_model[data_model['title'] == movie].index[0]\n",
    "    distances = sorted(list(enumerate(similarity[index])),reverse=True,key = lambda x: x[1])\n",
    "    for i in distances[1:m+1]:\n",
    "        print(data_model.iloc[i[0]].title)"
   ]
  },
  {
   "cell_type": "code",
   "execution_count": 54,
   "metadata": {},
   "outputs": [
    {
     "name": "stdout",
     "output_type": "stream",
     "text": [
      "Wind River\n",
      "Thunderheart\n"
     ]
    }
   ],
   "source": [
    "recommend(\"Killers of the Flower Moon\",2)"
   ]
  },
  {
   "cell_type": "code",
   "execution_count": 55,
   "metadata": {},
   "outputs": [],
   "source": [
    "import pickle\n",
    "pickle.dump(data_model.to_dict(),open(\"movies_dict.pkl\",\"wb\"))\n",
    "pickle.dump(similarity,open(\"similarity.pkl\",\"wb\"))"
   ]
  }
 ],
 "metadata": {
  "kernelspec": {
   "display_name": "base",
   "language": "python",
   "name": "python3"
  },
  "language_info": {
   "codemirror_mode": {
    "name": "ipython",
    "version": 3
   },
   "file_extension": ".py",
   "mimetype": "text/x-python",
   "name": "python",
   "nbconvert_exporter": "python",
   "pygments_lexer": "ipython3",
   "version": "3.11.5"
  }
 },
 "nbformat": 4,
 "nbformat_minor": 2
}
