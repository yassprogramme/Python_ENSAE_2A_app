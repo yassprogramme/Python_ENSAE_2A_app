{
 "cells": [
  {
   "cell_type": "markdown",
   "metadata": {},
   "source": [
    "## 0. Introduction\n",
    "\n",
    "Ce projet est réalisé par Zakarya El Mimouni et Yassine Boukhateb étudiants en deuxième année du cycle ingénieur de l'ENSAE Paris dans le cadre du cours de Python pour la DataScience.\n",
    "\n",
    "**Importation des modules et packages**"
   ]
  },
  {
   "cell_type": "code",
   "execution_count": 36,
   "metadata": {},
   "outputs": [],
   "source": [
    "import requests\n",
    "import json\n",
    "import time\n",
    "import pandas as pd\n",
    "import nltk\n",
    "from nltk.stem.porter import PorterStemmer\n",
    "from sklearn.feature_extraction.text import CountVectorizer\n",
    "from sklearn.metrics.pairwise import cosine_similarity\n",
    "import pickle\n",
    "import matplotlib.pyplot as plt"
   ]
  },
  {
   "cell_type": "markdown",
   "metadata": {},
   "source": [
    "## I. Récupération des données\n",
    "\n",
    "On récupère les données de 10 000 films grâce à l'API TMDB"
   ]
  },
  {
   "cell_type": "markdown",
   "metadata": {},
   "source": [
    "On récupère les données qui nous seront utile pour la création de l'interface de l'application."
   ]
  },
  {
   "cell_type": "code",
   "execution_count": 4,
   "metadata": {},
   "outputs": [],
   "source": [
    "movies_data=pd.read_json('movies_data_complete.json')"
   ]
  },
  {
   "cell_type": "code",
   "execution_count": 7,
   "metadata": {},
   "outputs": [
    {
     "data": {
      "text/html": [
       "<div>\n",
       "<style scoped>\n",
       "    .dataframe tbody tr th:only-of-type {\n",
       "        vertical-align: middle;\n",
       "    }\n",
       "\n",
       "    .dataframe tbody tr th {\n",
       "        vertical-align: top;\n",
       "    }\n",
       "\n",
       "    .dataframe thead th {\n",
       "        text-align: right;\n",
       "    }\n",
       "</style>\n",
       "<table border=\"1\" class=\"dataframe\">\n",
       "  <thead>\n",
       "    <tr style=\"text-align: right;\">\n",
       "      <th></th>\n",
       "      <th>adult</th>\n",
       "      <th>backdrop_path</th>\n",
       "      <th>belongs_to_collection</th>\n",
       "      <th>budget</th>\n",
       "      <th>genres</th>\n",
       "      <th>homepage</th>\n",
       "      <th>id</th>\n",
       "      <th>imdb_id</th>\n",
       "      <th>original_language</th>\n",
       "      <th>original_title</th>\n",
       "      <th>...</th>\n",
       "      <th>runtime</th>\n",
       "      <th>spoken_languages</th>\n",
       "      <th>status</th>\n",
       "      <th>tagline</th>\n",
       "      <th>title</th>\n",
       "      <th>video</th>\n",
       "      <th>vote_average</th>\n",
       "      <th>vote_count</th>\n",
       "      <th>credits</th>\n",
       "      <th>keywords</th>\n",
       "    </tr>\n",
       "  </thead>\n",
       "  <tbody>\n",
       "    <tr>\n",
       "      <th>0</th>\n",
       "      <td>False</td>\n",
       "      <td>/1X7vow16X7CnCoexXh4H4F2yDJv.jpg</td>\n",
       "      <td>None</td>\n",
       "      <td>200000000</td>\n",
       "      <td>[{'id': 80, 'name': 'Crime'}, {'id': 18, 'name...</td>\n",
       "      <td>https://www.killersoftheflowermoonmovie.com</td>\n",
       "      <td>466420</td>\n",
       "      <td>tt5537002</td>\n",
       "      <td>en</td>\n",
       "      <td>Killers of the Flower Moon</td>\n",
       "      <td>...</td>\n",
       "      <td>206</td>\n",
       "      <td>[{'english_name': 'English', 'iso_639_1': 'en'...</td>\n",
       "      <td>Released</td>\n",
       "      <td>Greed is an animal that hungers for blood.</td>\n",
       "      <td>Killers of the Flower Moon</td>\n",
       "      <td>False</td>\n",
       "      <td>7.622</td>\n",
       "      <td>1479</td>\n",
       "      <td>{'cast': [{'adult': False, 'gender': 2, 'id': ...</td>\n",
       "      <td>{'keywords': [{'id': 1157, 'name': 'husband wi...</td>\n",
       "    </tr>\n",
       "    <tr>\n",
       "      <th>1</th>\n",
       "      <td>False</td>\n",
       "      <td>/zIYROrkHJPYB3VTiW1L9QVgaQO.jpg</td>\n",
       "      <td>None</td>\n",
       "      <td>40000000</td>\n",
       "      <td>[{'id': 28, 'name': 'Action'}, {'id': 35, 'nam...</td>\n",
       "      <td>http://freelance.movie</td>\n",
       "      <td>897087</td>\n",
       "      <td>tt15744298</td>\n",
       "      <td>en</td>\n",
       "      <td>Freelance</td>\n",
       "      <td>...</td>\n",
       "      <td>108</td>\n",
       "      <td>[{'english_name': 'English', 'iso_639_1': 'en'...</td>\n",
       "      <td>Released</td>\n",
       "      <td>Retirement didn't suit him.</td>\n",
       "      <td>Freelance</td>\n",
       "      <td>False</td>\n",
       "      <td>6.539</td>\n",
       "      <td>322</td>\n",
       "      <td>{'cast': [{'adult': False, 'gender': 2, 'id': ...</td>\n",
       "      <td>{'keywords': [{'id': 6285, 'name': 'coup d'eta...</td>\n",
       "    </tr>\n",
       "    <tr>\n",
       "      <th>2</th>\n",
       "      <td>False</td>\n",
       "      <td>/r1eCvALF6fN7anVYL8Zn7PaceD1.jpg</td>\n",
       "      <td>None</td>\n",
       "      <td>125000000</td>\n",
       "      <td>[{'id': 35, 'name': 'Comedy'}, {'id': 10751, '...</td>\n",
       "      <td>https://www.wonkamovie.com</td>\n",
       "      <td>787699</td>\n",
       "      <td>tt6166392</td>\n",
       "      <td>en</td>\n",
       "      <td>Wonka</td>\n",
       "      <td>...</td>\n",
       "      <td>117</td>\n",
       "      <td>[{'english_name': 'English', 'iso_639_1': 'en'...</td>\n",
       "      <td>Released</td>\n",
       "      <td>Every good thing in this world started with a ...</td>\n",
       "      <td>Wonka</td>\n",
       "      <td>False</td>\n",
       "      <td>7.271</td>\n",
       "      <td>316</td>\n",
       "      <td>{'cast': [{'adult': False, 'gender': 2, 'id': ...</td>\n",
       "      <td>{'keywords': [{'id': 715, 'name': 'chocolate'}...</td>\n",
       "    </tr>\n",
       "    <tr>\n",
       "      <th>3</th>\n",
       "      <td>False</td>\n",
       "      <td>/k1KrbaCMACQiq7EA0Yhw3bdzMv7.jpg</td>\n",
       "      <td>{'id': 489724, 'name': 'The Trolls Collection'...</td>\n",
       "      <td>95000000</td>\n",
       "      <td>[{'id': 16, 'name': 'Animation'}, {'id': 10751...</td>\n",
       "      <td>https://www.delfi.lt</td>\n",
       "      <td>901362</td>\n",
       "      <td>tt14362112</td>\n",
       "      <td>en</td>\n",
       "      <td>Trolls Band Together</td>\n",
       "      <td>...</td>\n",
       "      <td>92</td>\n",
       "      <td>[{'english_name': 'English', 'iso_639_1': 'en'...</td>\n",
       "      <td>Released</td>\n",
       "      <td>There are some new trolls on the block.</td>\n",
       "      <td>Trolls Band Together</td>\n",
       "      <td>False</td>\n",
       "      <td>7.172</td>\n",
       "      <td>379</td>\n",
       "      <td>{'cast': [{'adult': False, 'gender': 1, 'id': ...</td>\n",
       "      <td>{'keywords': [{'id': 3490, 'name': 'pop star'}...</td>\n",
       "    </tr>\n",
       "    <tr>\n",
       "      <th>4</th>\n",
       "      <td>False</td>\n",
       "      <td>/9PqD3wSIjntyJDBzMNuxuKHwpUD.jpg</td>\n",
       "      <td>None</td>\n",
       "      <td>0</td>\n",
       "      <td>[{'id': 16, 'name': 'Animation'}, {'id': 35, '...</td>\n",
       "      <td>https://www.netflix.com/title/81218917</td>\n",
       "      <td>1075794</td>\n",
       "      <td>tt5755238</td>\n",
       "      <td>en</td>\n",
       "      <td>Leo</td>\n",
       "      <td>...</td>\n",
       "      <td>102</td>\n",
       "      <td>[{'english_name': 'English', 'iso_639_1': 'en'...</td>\n",
       "      <td>Released</td>\n",
       "      <td>Breaking out this November.</td>\n",
       "      <td>Leo</td>\n",
       "      <td>False</td>\n",
       "      <td>7.609</td>\n",
       "      <td>597</td>\n",
       "      <td>{'cast': [{'adult': False, 'gender': 2, 'id': ...</td>\n",
       "      <td>{'keywords': [{'id': 1517, 'name': 'classroom'...</td>\n",
       "    </tr>\n",
       "  </tbody>\n",
       "</table>\n",
       "<p>5 rows × 27 columns</p>\n",
       "</div>"
      ],
      "text/plain": [
       "   adult                     backdrop_path  \\\n",
       "0  False  /1X7vow16X7CnCoexXh4H4F2yDJv.jpg   \n",
       "1  False   /zIYROrkHJPYB3VTiW1L9QVgaQO.jpg   \n",
       "2  False  /r1eCvALF6fN7anVYL8Zn7PaceD1.jpg   \n",
       "3  False  /k1KrbaCMACQiq7EA0Yhw3bdzMv7.jpg   \n",
       "4  False  /9PqD3wSIjntyJDBzMNuxuKHwpUD.jpg   \n",
       "\n",
       "                               belongs_to_collection     budget  \\\n",
       "0                                               None  200000000   \n",
       "1                                               None   40000000   \n",
       "2                                               None  125000000   \n",
       "3  {'id': 489724, 'name': 'The Trolls Collection'...   95000000   \n",
       "4                                               None          0   \n",
       "\n",
       "                                              genres  \\\n",
       "0  [{'id': 80, 'name': 'Crime'}, {'id': 18, 'name...   \n",
       "1  [{'id': 28, 'name': 'Action'}, {'id': 35, 'nam...   \n",
       "2  [{'id': 35, 'name': 'Comedy'}, {'id': 10751, '...   \n",
       "3  [{'id': 16, 'name': 'Animation'}, {'id': 10751...   \n",
       "4  [{'id': 16, 'name': 'Animation'}, {'id': 35, '...   \n",
       "\n",
       "                                      homepage       id     imdb_id  \\\n",
       "0  https://www.killersoftheflowermoonmovie.com   466420   tt5537002   \n",
       "1                       http://freelance.movie   897087  tt15744298   \n",
       "2                   https://www.wonkamovie.com   787699   tt6166392   \n",
       "3                         https://www.delfi.lt   901362  tt14362112   \n",
       "4       https://www.netflix.com/title/81218917  1075794   tt5755238   \n",
       "\n",
       "  original_language              original_title  ... runtime  \\\n",
       "0                en  Killers of the Flower Moon  ...     206   \n",
       "1                en                   Freelance  ...     108   \n",
       "2                en                       Wonka  ...     117   \n",
       "3                en        Trolls Band Together  ...      92   \n",
       "4                en                         Leo  ...     102   \n",
       "\n",
       "                                    spoken_languages    status  \\\n",
       "0  [{'english_name': 'English', 'iso_639_1': 'en'...  Released   \n",
       "1  [{'english_name': 'English', 'iso_639_1': 'en'...  Released   \n",
       "2  [{'english_name': 'English', 'iso_639_1': 'en'...  Released   \n",
       "3  [{'english_name': 'English', 'iso_639_1': 'en'...  Released   \n",
       "4  [{'english_name': 'English', 'iso_639_1': 'en'...  Released   \n",
       "\n",
       "                                             tagline  \\\n",
       "0         Greed is an animal that hungers for blood.   \n",
       "1                        Retirement didn't suit him.   \n",
       "2  Every good thing in this world started with a ...   \n",
       "3            There are some new trolls on the block.   \n",
       "4                        Breaking out this November.   \n",
       "\n",
       "                        title  video  vote_average  vote_count  \\\n",
       "0  Killers of the Flower Moon  False         7.622        1479   \n",
       "1                   Freelance  False         6.539         322   \n",
       "2                       Wonka  False         7.271         316   \n",
       "3        Trolls Band Together  False         7.172         379   \n",
       "4                         Leo  False         7.609         597   \n",
       "\n",
       "                                             credits  \\\n",
       "0  {'cast': [{'adult': False, 'gender': 2, 'id': ...   \n",
       "1  {'cast': [{'adult': False, 'gender': 2, 'id': ...   \n",
       "2  {'cast': [{'adult': False, 'gender': 2, 'id': ...   \n",
       "3  {'cast': [{'adult': False, 'gender': 1, 'id': ...   \n",
       "4  {'cast': [{'adult': False, 'gender': 2, 'id': ...   \n",
       "\n",
       "                                            keywords  \n",
       "0  {'keywords': [{'id': 1157, 'name': 'husband wi...  \n",
       "1  {'keywords': [{'id': 6285, 'name': 'coup d'eta...  \n",
       "2  {'keywords': [{'id': 715, 'name': 'chocolate'}...  \n",
       "3  {'keywords': [{'id': 3490, 'name': 'pop star'}...  \n",
       "4  {'keywords': [{'id': 1517, 'name': 'classroom'...  \n",
       "\n",
       "[5 rows x 27 columns]"
      ]
     },
     "execution_count": 7,
     "metadata": {},
     "output_type": "execute_result"
    }
   ],
   "source": [
    "\n",
    "movies_data.head()"
   ]
  },
  {
   "cell_type": "code",
   "execution_count": 9,
   "metadata": {},
   "outputs": [
    {
     "data": {
      "text/plain": [
       "adult                       0\n",
       "backdrop_path              78\n",
       "belongs_to_collection    7422\n",
       "budget                      0\n",
       "genres                      0\n",
       "homepage                    0\n",
       "id                          0\n",
       "imdb_id                    42\n",
       "original_language           0\n",
       "original_title              0\n",
       "overview                    0\n",
       "popularity                  0\n",
       "poster_path                 4\n",
       "production_companies        0\n",
       "production_countries        0\n",
       "release_date                0\n",
       "revenue                     0\n",
       "runtime                     0\n",
       "spoken_languages            0\n",
       "status                      0\n",
       "tagline                     0\n",
       "title                       0\n",
       "video                       0\n",
       "vote_average                0\n",
       "vote_count                  0\n",
       "credits                     0\n",
       "keywords                    0\n",
       "dtype: int64"
      ]
     },
     "execution_count": 9,
     "metadata": {},
     "output_type": "execute_result"
    }
   ],
   "source": [
    "movies_data.isna().sum()"
   ]
  },
  {
   "cell_type": "markdown",
   "metadata": {},
   "source": [
    "la colonnes \"belongs_to_collection\" comporte le plus de valuer manquantes et il est pas intéressante pour notre cas, on va donc l'éliminer"
   ]
  },
  {
   "cell_type": "code",
   "execution_count": 10,
   "metadata": {},
   "outputs": [],
   "source": [
    "movies_data=movies_data.drop(columns=['belongs_to_collection'])"
   ]
  },
  {
   "cell_type": "code",
   "execution_count": 12,
   "metadata": {},
   "outputs": [
    {
     "data": {
      "text/plain": [
       "adult                    0\n",
       "backdrop_path           78\n",
       "budget                   0\n",
       "genres                   0\n",
       "homepage                 0\n",
       "id                       0\n",
       "imdb_id                 42\n",
       "original_language        0\n",
       "original_title           0\n",
       "overview                 0\n",
       "popularity               0\n",
       "poster_path              4\n",
       "production_companies     0\n",
       "production_countries     0\n",
       "release_date             0\n",
       "revenue                  0\n",
       "runtime                  0\n",
       "spoken_languages         0\n",
       "status                   0\n",
       "tagline                  0\n",
       "title                    0\n",
       "video                    0\n",
       "vote_average             0\n",
       "vote_count               0\n",
       "credits                  0\n",
       "keywords                 0\n",
       "dtype: int64"
      ]
     },
     "execution_count": 12,
     "metadata": {},
     "output_type": "execute_result"
    }
   ],
   "source": [
    "movies_data.isna().sum()"
   ]
  },
  {
   "cell_type": "markdown",
   "metadata": {},
   "source": [
    "élimination des lignes avec des valeurs manquantes"
   ]
  },
  {
   "cell_type": "code",
   "execution_count": 16,
   "metadata": {},
   "outputs": [],
   "source": [
    "movies_data.dropna(inplace=True)"
   ]
  },
  {
   "cell_type": "code",
   "execution_count": 17,
   "metadata": {},
   "outputs": [
    {
     "data": {
      "text/plain": [
       "adult                   0\n",
       "backdrop_path           0\n",
       "budget                  0\n",
       "genres                  0\n",
       "homepage                0\n",
       "id                      0\n",
       "imdb_id                 0\n",
       "original_language       0\n",
       "original_title          0\n",
       "overview                0\n",
       "popularity              0\n",
       "poster_path             0\n",
       "production_companies    0\n",
       "production_countries    0\n",
       "release_date            0\n",
       "revenue                 0\n",
       "runtime                 0\n",
       "spoken_languages        0\n",
       "status                  0\n",
       "tagline                 0\n",
       "title                   0\n",
       "video                   0\n",
       "vote_average            0\n",
       "vote_count              0\n",
       "credits                 0\n",
       "keywords                0\n",
       "dtype: int64"
      ]
     },
     "execution_count": 17,
     "metadata": {},
     "output_type": "execute_result"
    }
   ],
   "source": [
    "movies_data.isna().sum()"
   ]
  },
  {
   "cell_type": "markdown",
   "metadata": {},
   "source": [
    "il n'y a plus de valeurs manquante"
   ]
  },
  {
   "cell_type": "markdown",
   "metadata": {},
   "source": [
    "# supprimer les films dupliqués"
   ]
  },
  {
   "cell_type": "code",
   "execution_count": 25,
   "metadata": {},
   "outputs": [],
   "source": [
    "movies_data= movies_data.drop_duplicates(subset='title', keep='first')"
   ]
  },
  {
   "cell_type": "markdown",
   "metadata": {},
   "source": [
    "# étude de la base de données "
   ]
  },
  {
   "cell_type": "code",
   "execution_count": 28,
   "metadata": {},
   "outputs": [
    {
     "data": {
      "text/plain": [
       "0       [{'id': 80, 'name': 'Crime'}, {'id': 18, 'name...\n",
       "1       [{'id': 28, 'name': 'Action'}, {'id': 35, 'nam...\n",
       "2       [{'id': 35, 'name': 'Comedy'}, {'id': 10751, '...\n",
       "3       [{'id': 16, 'name': 'Animation'}, {'id': 10751...\n",
       "4       [{'id': 16, 'name': 'Animation'}, {'id': 35, '...\n",
       "                              ...                        \n",
       "9994                       [{'id': 35, 'name': 'Comedy'}]\n",
       "9995    [{'id': 12, 'name': 'Adventure'}, {'id': 18, '...\n",
       "9997    [{'id': 28, 'name': 'Action'}, {'id': 12, 'nam...\n",
       "9998    [{'id': 10402, 'name': 'Music'}, {'id': 18, 'n...\n",
       "9999    [{'id': 35, 'name': 'Comedy'}, {'id': 10751, '...\n",
       "Name: genres, Length: 8890, dtype: object"
      ]
     },
     "execution_count": 28,
     "metadata": {},
     "output_type": "execute_result"
    }
   ],
   "source": [
    "movies_data['genres']"
   ]
  },
  {
   "cell_type": "code",
   "execution_count": 30,
   "metadata": {},
   "outputs": [
    {
     "data": {
      "text/plain": [
       "[{'id': 80, 'name': 'Crime'},\n",
       " {'id': 18, 'name': 'Drama'},\n",
       " {'id': 36, 'name': 'History'}]"
      ]
     },
     "execution_count": 30,
     "metadata": {},
     "output_type": "execute_result"
    }
   ],
   "source": [
    "movies_data.loc[0].genres"
   ]
  },
  {
   "cell_type": "markdown",
   "metadata": {},
   "source": [
    "on va mettre cette colonnes de façon plus lisible"
   ]
  },
  {
   "cell_type": "code",
   "execution_count": 31,
   "metadata": {},
   "outputs": [],
   "source": [
    "def convert(text):\n",
    "    L = []\n",
    "    for i in text:\n",
    "        L.append(i[\"name\"]) \n",
    "    return L "
   ]
  },
  {
   "cell_type": "code",
   "execution_count": 32,
   "metadata": {},
   "outputs": [
    {
     "name": "stderr",
     "output_type": "stream",
     "text": [
      "C:\\Users\\Hp\\AppData\\Local\\Temp\\ipykernel_8668\\3427741029.py:1: SettingWithCopyWarning: \n",
      "A value is trying to be set on a copy of a slice from a DataFrame.\n",
      "Try using .loc[row_indexer,col_indexer] = value instead\n",
      "\n",
      "See the caveats in the documentation: https://pandas.pydata.org/pandas-docs/stable/user_guide/indexing.html#returning-a-view-versus-a-copy\n",
      "  movies_data['genres'] = movies_data['genres'].apply(convert)\n"
     ]
    }
   ],
   "source": [
    "movies_data['genres'] = movies_data['genres'].apply(convert)"
   ]
  },
  {
   "cell_type": "code",
   "execution_count": 33,
   "metadata": {},
   "outputs": [
    {
     "data": {
      "text/plain": [
       "0                           [Crime, Drama, History]\n",
       "1                                  [Action, Comedy]\n",
       "2                         [Comedy, Family, Fantasy]\n",
       "3       [Animation, Family, Music, Fantasy, Comedy]\n",
       "4                       [Animation, Comedy, Family]\n",
       "                           ...                     \n",
       "9994                                       [Comedy]\n",
       "9995                    [Adventure, Drama, History]\n",
       "9997                     [Action, Adventure, Drama]\n",
       "9998                                 [Music, Drama]\n",
       "9999                               [Comedy, Family]\n",
       "Name: genres, Length: 8890, dtype: object"
      ]
     },
     "execution_count": 33,
     "metadata": {},
     "output_type": "execute_result"
    }
   ],
   "source": [
    "movies_data.genres"
   ]
  },
  {
   "cell_type": "code",
   "execution_count": 37,
   "metadata": {},
   "outputs": [
    {
     "name": "stdout",
     "output_type": "stream",
     "text": [
      "Nombre de films par genre :\n",
      "Drama              3601\n",
      "Comedy             2845\n",
      "Thriller           2392\n",
      "Action             2388\n",
      "Adventure          1623\n",
      "Romance            1403\n",
      "Horror             1333\n",
      "Crime              1221\n",
      "Family             1193\n",
      "Science Fiction    1141\n",
      "Fantasy            1140\n",
      "Animation          1075\n",
      "Mystery             821\n",
      "History             394\n",
      "War                 318\n",
      "Music               237\n",
      "TV Movie            202\n",
      "Western             185\n",
      "Documentary          91\n",
      "Name: genres, dtype: int64\n"
     ]
    }
   ],
   "source": [
    "genres_exploded = movies_data['genres'].explode()\n",
    "# Compter le nombre de films par genre\n",
    "genre_counts = genres_exploded.value_counts()\n",
    "print(\"Nombre de films par genre :\")\n",
    "print(genre_counts)"
   ]
  },
  {
   "cell_type": "code",
   "execution_count": 41,
   "metadata": {},
   "outputs": [
    {
     "data": {
      "text/plain": [
       "0              Crime\n",
       "0              Drama\n",
       "0            History\n",
       "1             Action\n",
       "1             Comedy\n",
       "2             Comedy\n",
       "2             Family\n",
       "2            Fantasy\n",
       "3          Animation\n",
       "3             Family\n",
       "3              Music\n",
       "3            Fantasy\n",
       "3             Comedy\n",
       "4          Animation\n",
       "4             Comedy\n",
       "4             Family\n",
       "5              Drama\n",
       "5            Mystery\n",
       "5           Thriller\n",
       "5    Science Fiction\n",
       "Name: genres, dtype: object"
      ]
     },
     "execution_count": 41,
     "metadata": {},
     "output_type": "execute_result"
    }
   ],
   "source": [
    "genres_exploded.head(20)"
   ]
  },
  {
   "cell_type": "code",
   "execution_count": 38,
   "metadata": {},
   "outputs": [
    {
     "data": {
      "image/png": "[encoded data removed]",
      "text/plain": [
       "<Figure size 800x800 with 1 Axes>"
      ]
     },
     "metadata": {},
     "output_type": "display_data"
    }
   ],
   "source": [
    "plt.figure(figsize=(8, 8))\n",
    "plt.pie(genre_counts, labels=genre_counts.index, autopct='%1.1f%%')\n",
    "plt.title('Répartition des genres de films')\n",
    "plt.axis('equal')  \n",
    "plt.show()"
   ]
  },
  {
   "cell_type": "code",
   "execution_count": 48,
   "metadata": {},
   "outputs": [],
   "source": [
    "top_5_expensive_movies =movies_data.nlargest(5, 'budget')"
   ]
  },
  {
   "cell_type": "code",
   "execution_count": 49,
   "metadata": {},
   "outputs": [
    {
     "data": {
      "text/html": [
       "<div>\n",
       "<style scoped>\n",
       "    .dataframe tbody tr th:only-of-type {\n",
       "        vertical-align: middle;\n",
       "    }\n",
       "\n",
       "    .dataframe tbody tr th {\n",
       "        vertical-align: top;\n",
       "    }\n",
       "\n",
       "    .dataframe thead th {\n",
       "        text-align: right;\n",
       "    }\n",
       "</style>\n",
       "<table border=\"1\" class=\"dataframe\">\n",
       "  <thead>\n",
       "    <tr style=\"text-align: right;\">\n",
       "      <th></th>\n",
       "      <th>adult</th>\n",
       "      <th>backdrop_path</th>\n",
       "      <th>budget</th>\n",
       "      <th>genres</th>\n",
       "      <th>homepage</th>\n",
       "      <th>id</th>\n",
       "      <th>imdb_id</th>\n",
       "      <th>original_language</th>\n",
       "      <th>original_title</th>\n",
       "      <th>overview</th>\n",
       "      <th>...</th>\n",
       "      <th>runtime</th>\n",
       "      <th>spoken_languages</th>\n",
       "      <th>status</th>\n",
       "      <th>tagline</th>\n",
       "      <th>title</th>\n",
       "      <th>video</th>\n",
       "      <th>vote_average</th>\n",
       "      <th>vote_count</th>\n",
       "      <th>credits</th>\n",
       "      <th>keywords</th>\n",
       "    </tr>\n",
       "  </thead>\n",
       "  <tbody>\n",
       "    <tr>\n",
       "      <th>56</th>\n",
       "      <td>False</td>\n",
       "      <td>/8rpDcsfLJypbO6vREc0547VKqEv.jpg</td>\n",
       "      <td>460000000</td>\n",
       "      <td>[Science Fiction, Adventure, Action]</td>\n",
       "      <td>https://www.avatar.com/movies/avatar-the-way-o...</td>\n",
       "      <td>76600</td>\n",
       "      <td>tt1630029</td>\n",
       "      <td>en</td>\n",
       "      <td>Avatar: The Way of Water</td>\n",
       "      <td>Set more than a decade after the events of the...</td>\n",
       "      <td>...</td>\n",
       "      <td>192</td>\n",
       "      <td>[{'english_name': 'English', 'iso_639_1': 'en'...</td>\n",
       "      <td>Released</td>\n",
       "      <td>Return to Pandora.</td>\n",
       "      <td>Avatar: The Way of Water</td>\n",
       "      <td>False</td>\n",
       "      <td>7.651</td>\n",
       "      <td>10365</td>\n",
       "      <td>{'cast': [{'adult': False, 'gender': 2, 'id': ...</td>\n",
       "      <td>{'keywords': [{'id': 3737, 'name': 'dying and ...</td>\n",
       "    </tr>\n",
       "    <tr>\n",
       "      <th>298</th>\n",
       "      <td>False</td>\n",
       "      <td>/wQ0r0JRs7elHSKg1SFtdWdKTYKi.jpg</td>\n",
       "      <td>379000000</td>\n",
       "      <td>[Adventure, Action, Fantasy]</td>\n",
       "      <td>https://movies.disney.com/pirates-of-the-carib...</td>\n",
       "      <td>1865</td>\n",
       "      <td>tt1298650</td>\n",
       "      <td>en</td>\n",
       "      <td>Pirates of the Caribbean: On Stranger Tides</td>\n",
       "      <td>Captain Jack Sparrow crosses paths with a woma...</td>\n",
       "      <td>...</td>\n",
       "      <td>137</td>\n",
       "      <td>[{'english_name': 'English', 'iso_639_1': 'en'...</td>\n",
       "      <td>Released</td>\n",
       "      <td>Live Forever Or Die Trying.</td>\n",
       "      <td>Pirates of the Caribbean: On Stranger Tides</td>\n",
       "      <td>False</td>\n",
       "      <td>6.540</td>\n",
       "      <td>13290</td>\n",
       "      <td>{'cast': [{'adult': False, 'gender': 2, 'id': ...</td>\n",
       "      <td>{'keywords': [{'id': 658, 'name': 'sea'}, {'id...</td>\n",
       "    </tr>\n",
       "    <tr>\n",
       "      <th>426</th>\n",
       "      <td>False</td>\n",
       "      <td>/6YwkGolwdOMNpbTOmLjoehlVWs5.jpg</td>\n",
       "      <td>365000000</td>\n",
       "      <td>[Action, Adventure, Science Fiction]</td>\n",
       "      <td>http://marvel.com/movies/movie/193/avengers_ag...</td>\n",
       "      <td>99861</td>\n",
       "      <td>tt2395427</td>\n",
       "      <td>en</td>\n",
       "      <td>Avengers: Age of Ultron</td>\n",
       "      <td>When Tony Stark tries to jumpstart a dormant p...</td>\n",
       "      <td>...</td>\n",
       "      <td>141</td>\n",
       "      <td>[{'english_name': 'English', 'iso_639_1': 'en'...</td>\n",
       "      <td>Released</td>\n",
       "      <td>A new age has come.</td>\n",
       "      <td>Avengers: Age of Ultron</td>\n",
       "      <td>False</td>\n",
       "      <td>7.274</td>\n",
       "      <td>21979</td>\n",
       "      <td>{'cast': [{'adult': False, 'gender': 2, 'id': ...</td>\n",
       "      <td>{'keywords': [{'id': 310, 'name': 'artificial ...</td>\n",
       "    </tr>\n",
       "    <tr>\n",
       "      <th>335</th>\n",
       "      <td>False</td>\n",
       "      <td>/7RyHsO4yDXtBv1zUU3mTpHeQ0d5.jpg</td>\n",
       "      <td>356000000</td>\n",
       "      <td>[Adventure, Science Fiction, Action]</td>\n",
       "      <td>https://www.marvel.com/movies/avengers-endgame</td>\n",
       "      <td>299534</td>\n",
       "      <td>tt4154796</td>\n",
       "      <td>en</td>\n",
       "      <td>Avengers: Endgame</td>\n",
       "      <td>After the devastating events of Avengers: Infi...</td>\n",
       "      <td>...</td>\n",
       "      <td>181</td>\n",
       "      <td>[{'english_name': 'English', 'iso_639_1': 'en'...</td>\n",
       "      <td>Released</td>\n",
       "      <td>Avenge the fallen.</td>\n",
       "      <td>Avengers: Endgame</td>\n",
       "      <td>False</td>\n",
       "      <td>8.261</td>\n",
       "      <td>24185</td>\n",
       "      <td>{'cast': [{'adult': False, 'gender': 2, 'id': ...</td>\n",
       "      <td>{'keywords': [{'id': 9715, 'name': 'superhero'...</td>\n",
       "    </tr>\n",
       "    <tr>\n",
       "      <th>15</th>\n",
       "      <td>False</td>\n",
       "      <td>/4XM8DUTQb3lhLemJC51Jx4a2EuA.jpg</td>\n",
       "      <td>340000000</td>\n",
       "      <td>[Action, Crime, Thriller]</td>\n",
       "      <td>https://fastxmovie.com</td>\n",
       "      <td>385687</td>\n",
       "      <td>tt5433140</td>\n",
       "      <td>en</td>\n",
       "      <td>Fast X</td>\n",
       "      <td>Over many missions and against impossible odds...</td>\n",
       "      <td>...</td>\n",
       "      <td>142</td>\n",
       "      <td>[{'english_name': 'English', 'iso_639_1': 'en'...</td>\n",
       "      <td>Released</td>\n",
       "      <td>The end of the road begins.</td>\n",
       "      <td>Fast X</td>\n",
       "      <td>False</td>\n",
       "      <td>7.200</td>\n",
       "      <td>4484</td>\n",
       "      <td>{'cast': [{'adult': False, 'gender': 2, 'id': ...</td>\n",
       "      <td>{'keywords': [{'id': 9663, 'name': 'sequel'}, ...</td>\n",
       "    </tr>\n",
       "  </tbody>\n",
       "</table>\n",
       "<p>5 rows × 26 columns</p>\n",
       "</div>"
      ],
      "text/plain": [
       "     adult                     backdrop_path     budget  \\\n",
       "56   False  /8rpDcsfLJypbO6vREc0547VKqEv.jpg  460000000   \n",
       "298  False  /wQ0r0JRs7elHSKg1SFtdWdKTYKi.jpg  379000000   \n",
       "426  False  /6YwkGolwdOMNpbTOmLjoehlVWs5.jpg  365000000   \n",
       "335  False  /7RyHsO4yDXtBv1zUU3mTpHeQ0d5.jpg  356000000   \n",
       "15   False  /4XM8DUTQb3lhLemJC51Jx4a2EuA.jpg  340000000   \n",
       "\n",
       "                                   genres  \\\n",
       "56   [Science Fiction, Adventure, Action]   \n",
       "298          [Adventure, Action, Fantasy]   \n",
       "426  [Action, Adventure, Science Fiction]   \n",
       "335  [Adventure, Science Fiction, Action]   \n",
       "15              [Action, Crime, Thriller]   \n",
       "\n",
       "                                              homepage      id    imdb_id  \\\n",
       "56   https://www.avatar.com/movies/avatar-the-way-o...   76600  tt1630029   \n",
       "298  https://movies.disney.com/pirates-of-the-carib...    1865  tt1298650   \n",
       "426  http://marvel.com/movies/movie/193/avengers_ag...   99861  tt2395427   \n",
       "335     https://www.marvel.com/movies/avengers-endgame  299534  tt4154796   \n",
       "15                              https://fastxmovie.com  385687  tt5433140   \n",
       "\n",
       "    original_language                               original_title  \\\n",
       "56                 en                     Avatar: The Way of Water   \n",
       "298                en  Pirates of the Caribbean: On Stranger Tides   \n",
       "426                en                      Avengers: Age of Ultron   \n",
       "335                en                            Avengers: Endgame   \n",
       "15                 en                                       Fast X   \n",
       "\n",
       "                                              overview  ...  runtime  \\\n",
       "56   Set more than a decade after the events of the...  ...      192   \n",
       "298  Captain Jack Sparrow crosses paths with a woma...  ...      137   \n",
       "426  When Tony Stark tries to jumpstart a dormant p...  ...      141   \n",
       "335  After the devastating events of Avengers: Infi...  ...      181   \n",
       "15   Over many missions and against impossible odds...  ...      142   \n",
       "\n",
       "                                      spoken_languages    status  \\\n",
       "56   [{'english_name': 'English', 'iso_639_1': 'en'...  Released   \n",
       "298  [{'english_name': 'English', 'iso_639_1': 'en'...  Released   \n",
       "426  [{'english_name': 'English', 'iso_639_1': 'en'...  Released   \n",
       "335  [{'english_name': 'English', 'iso_639_1': 'en'...  Released   \n",
       "15   [{'english_name': 'English', 'iso_639_1': 'en'...  Released   \n",
       "\n",
       "                         tagline                                        title  \\\n",
       "56            Return to Pandora.                     Avatar: The Way of Water   \n",
       "298  Live Forever Or Die Trying.  Pirates of the Caribbean: On Stranger Tides   \n",
       "426          A new age has come.                      Avengers: Age of Ultron   \n",
       "335           Avenge the fallen.                            Avengers: Endgame   \n",
       "15   The end of the road begins.                                       Fast X   \n",
       "\n",
       "     video  vote_average vote_count  \\\n",
       "56   False         7.651      10365   \n",
       "298  False         6.540      13290   \n",
       "426  False         7.274      21979   \n",
       "335  False         8.261      24185   \n",
       "15   False         7.200       4484   \n",
       "\n",
       "                                               credits  \\\n",
       "56   {'cast': [{'adult': False, 'gender': 2, 'id': ...   \n",
       "298  {'cast': [{'adult': False, 'gender': 2, 'id': ...   \n",
       "426  {'cast': [{'adult': False, 'gender': 2, 'id': ...   \n",
       "335  {'cast': [{'adult': False, 'gender': 2, 'id': ...   \n",
       "15   {'cast': [{'adult': False, 'gender': 2, 'id': ...   \n",
       "\n",
       "                                              keywords  \n",
       "56   {'keywords': [{'id': 3737, 'name': 'dying and ...  \n",
       "298  {'keywords': [{'id': 658, 'name': 'sea'}, {'id...  \n",
       "426  {'keywords': [{'id': 310, 'name': 'artificial ...  \n",
       "335  {'keywords': [{'id': 9715, 'name': 'superhero'...  \n",
       "15   {'keywords': [{'id': 9663, 'name': 'sequel'}, ...  \n",
       "\n",
       "[5 rows x 26 columns]"
      ]
     },
     "execution_count": 49,
     "metadata": {},
     "output_type": "execute_result"
    }
   ],
   "source": [
    "top_5_expensive_movies.head()"
   ]
  },
  {
   "cell_type": "code",
   "execution_count": 58,
   "metadata": {},
   "outputs": [
    {
     "data": {
      "image/png": "[encoded data removed]",
      "text/plain": [
       "<Figure size 800x700 with 1 Axes>"
      ]
     },
     "metadata": {},
     "output_type": "display_data"
    }
   ],
   "source": [
    "plt.figure(figsize=(8, 7))\n",
    "plt.bar(range(len(top_5_expensive_movies)), top_5_expensive_movies['budget'])\n",
    "plt.xlabel('titre du film')\n",
    "plt.ylabel(\"Budget(en milliard d'euros)\")\n",
    "plt.title('Budget des 5 films les plus chers')\n",
    "plt.xticks(range(len(top_5_expensive_movies)), top_5_expensive_movies['title'], rotation=45)\n",
    "plt.tight_layout()\n",
    "plt.show()"
   ]
  },
  {
   "cell_type": "markdown",
   "metadata": {},
   "source": [
    "# Moyenne du budget par catégorie du film"
   ]
  },
  {
   "cell_type": "code",
   "execution_count": 57,
   "metadata": {},
   "outputs": [
    {
     "name": "stdout",
     "output_type": "stream",
     "text": [
      "Moyenne des budgets par genre :\n",
      "genres\n",
      "Action             3.703105e+07\n",
      "Adventure          4.991111e+07\n",
      "Animation          2.329480e+07\n",
      "Comedy             2.190220e+07\n",
      "Crime              2.175015e+07\n",
      "Documentary        1.178846e+06\n",
      "Drama              1.679477e+07\n",
      "Family             3.259011e+07\n",
      "Fantasy            3.667179e+07\n",
      "History            2.539565e+07\n",
      "Horror             9.286637e+06\n",
      "Music              1.600934e+07\n",
      "Mystery            1.771753e+07\n",
      "Romance            1.532880e+07\n",
      "Science Fiction    3.742086e+07\n",
      "TV Movie           8.499553e+05\n",
      "Thriller           2.058452e+07\n",
      "War                2.306122e+07\n",
      "Western            1.578088e+07\n",
      "Name: budget, dtype: float64\n"
     ]
    }
   ],
   "source": [
    "genres_with_budget = movies_data.explode('genres')[['genres', 'budget']]\n",
    "# Calcul de la moyenne des budgets par genre\n",
    "average_budget_by_genre = genres_with_budget.groupby('genres')['budget'].mean()\n",
    "print(\"Moyenne des budgets par genre :\")\n",
    "print(average_budget_by_genre)"
   ]
  },
  {
   "cell_type": "code",
   "execution_count": 59,
   "metadata": {},
   "outputs": [
    {
     "data": {
      "image/png": "[encoded data removed]",
      "text/plain": [
       "<Figure size 1000x600 with 1 Axes>"
      ]
     },
     "metadata": {},
     "output_type": "display_data"
    }
   ],
   "source": [
    "plt.figure(figsize=(10, 6))\n",
    "average_budget_by_genre.plot(kind='bar', color='skyblue')\n",
    "plt.xlabel('Genre')\n",
    "plt.ylabel('Budget moyen')\n",
    "plt.title('Budget moyen par genre de film')\n",
    "plt.xticks(rotation=45)\n",
    "plt.tight_layout()\n",
    "plt.show()"
   ]
  },
  {
   "cell_type": "markdown",
   "metadata": {},
   "source": [
    "# Langue et Film"
   ]
  },
  {
   "cell_type": "code",
   "execution_count": 62,
   "metadata": {},
   "outputs": [
    {
     "data": {
      "text/plain": [
       "array(['en', 'ko', 'no', 'fr', 'ja', 'es', 'ar', 'mn', 'zh', 'uk', 'hi',\n",
       "       'tl', 'de', 'fi', 'th', 'nl', 'pt', 'id', 'it', 'pl', 'te', 'sv',\n",
       "       'ru', 'ml', 'is', 'ca', 'cn', 'da', 'tr', 'yo', 'el', 'ig', 'sr',\n",
       "       'ta', 'cs', 'mk', 'bn', 'hr', 'km', 'ga', 'nb', 'he', 'ro', 'hu',\n",
       "       'vi'], dtype=object)"
      ]
     },
     "execution_count": 62,
     "metadata": {},
     "output_type": "execute_result"
    }
   ],
   "source": [
    "movies_data['original_language'].unique()"
   ]
  },
  {
   "cell_type": "markdown",
   "metadata": {},
   "source": [
    "# Nombre de Film Par Langue"
   ]
  },
  {
   "cell_type": "code",
   "execution_count": 66,
   "metadata": {},
   "outputs": [
    {
     "name": "stdout",
     "output_type": "stream",
     "text": [
      "Nombre de films par langue :\n",
      "en    7391\n",
      "ja     410\n",
      "fr     251\n",
      "es     171\n",
      "ko     119\n",
      "it     115\n",
      "zh      67\n",
      "de      59\n",
      "cn      51\n",
      "ru      31\n",
      "da      24\n",
      "no      24\n",
      "sv      22\n",
      "hi      19\n",
      "nl      17\n",
      "pt      17\n",
      "pl      17\n",
      "tl      12\n",
      "th      11\n",
      "id       8\n",
      "fi       8\n",
      "te       6\n",
      "ar       4\n",
      "tr       4\n",
      "cs       3\n",
      "is       3\n",
      "sr       3\n",
      "ta       2\n",
      "el       2\n",
      "ca       2\n",
      "uk       2\n",
      "km       2\n",
      "he       1\n",
      "ro       1\n",
      "hu       1\n",
      "nb       1\n",
      "ga       1\n",
      "yo       1\n",
      "hr       1\n",
      "bn       1\n",
      "mk       1\n",
      "ig       1\n",
      "ml       1\n",
      "mn       1\n",
      "vi       1\n",
      "Name: original_language, dtype: int64\n"
     ]
    }
   ],
   "source": [
    "langues_exploded = movies_data['original_language'].explode()\n",
    "# Compter le nombre de films par genre\n",
    "langues_counts = langues_exploded.value_counts()\n",
    "print(\"Nombre de films par langue :\")\n",
    "print(langues_counts)"
   ]
  },
  {
   "cell_type": "code",
   "execution_count": 67,
   "metadata": {},
   "outputs": [
    {
     "data": {
      "text/plain": [
       "<AxesSubplot:>"
      ]
     },
     "execution_count": 67,
     "metadata": {},
     "output_type": "execute_result"
    },
    {
     "data": {
      "image/png": "[encoded data removed]",
      "text/plain": [
       "<Figure size 1000x600 with 1 Axes>"
      ]
     },
     "metadata": {},
     "output_type": "display_data"
    }
   ],
   "source": [
    "plt.figure(figsize=(10, 6))\n",
    "langues_counts.plot(kind='bar', color='skyblue')"
   ]
  },
  {
   "cell_type": "markdown",
   "metadata": {},
   "source": [
    "# Budget Et Langue De Film"
   ]
  },
  {
   "cell_type": "code",
   "execution_count": 63,
   "metadata": {},
   "outputs": [],
   "source": [
    "budget_film_by_language = movies_data.groupby('original_language')['budget'].mean()\n"
   ]
  },
  {
   "cell_type": "code",
   "execution_count": 64,
   "metadata": {},
   "outputs": [
    {
     "data": {
      "image/png": "[encoded data removed]",
      "text/plain": [
       "<Figure size 1000x600 with 1 Axes>"
      ]
     },
     "metadata": {},
     "output_type": "display_data"
    }
   ],
   "source": [
    "plt.figure(figsize=(10, 6))\n",
    "budget_film_by_language.plot(kind='bar', color='skyblue')\n",
    "plt.xlabel('langue')\n",
    "plt.ylabel('Budget moyen')\n",
    "plt.title('Budget moyen par langue originale de film')\n",
    "plt.xticks(rotation=45)\n",
    "plt.tight_layout()\n",
    "plt.show()"
   ]
  },
  {
   "cell_type": "markdown",
   "metadata": {},
   "source": [
    "te ? cette alngue a seulement 6 films mais en moyenne il dépense plus de 3 milliard d'euro pour chque film"
   ]
  },
  {
   "cell_type": "markdown",
   "metadata": {},
   "source": [
    "# Sélectionner les colonnes intéressantes"
   ]
  },
  {
   "cell_type": "code",
   "execution_count": 3,
   "metadata": {},
   "outputs": [],
   "source": [
    "\n",
    "selected_columns=['id','title','original_title','overview','release_date','adult','popularity','vote_average','vote_count','poster_path','runtime','genres','production_companies','production_countries','spoken_languages','credits','keywords']\n",
    "movies_data=movies_data[selected_columns]\n",
    "movies_data= movies_data.drop_duplicates(subset='title', keep='first')"
   ]
  },
  {
   "cell_type": "code",
   "execution_count": 36,
   "metadata": {},
   "outputs": [],
   "source": [
    "# Convertir la colonne 'release_date' en type datetime si ce n'est pas déjà le cas\n",
    "movies_data['release_date'] = pd.to_datetime(movies_data['release_date'])\n",
    "\n",
    "# Filtrer les films dont la date est antérieure à '2023-10-18'\n",
    "movies_data = movies_data[movies_data['release_date'] <= '2023-12-31']\n",
    "movies_data.reset_index(drop=True)\n",
    "movies_data.dropna(axis=0,inplace=True)"
   ]
  },
  {
   "cell_type": "markdown",
   "metadata": {},
   "source": [
    "On contrôle qu'il n'y pas de variables avec des informations manquantes. On fait le choix d'enlever le film dès lors qu'il manque une info c'est assez restrictif A FAIRE PLUS TARD"
   ]
  },
  {
   "cell_type": "markdown",
   "metadata": {},
   "source": [
    "Pour notre modèle on conserve que les films dont les features ci dessous existent ça sera plus crédible"
   ]
  },
  {
   "cell_type": "code",
   "execution_count": 38,
   "metadata": {},
   "outputs": [
    {
     "data": {
      "text/plain": [
       "[{'id': 80, 'name': 'Crime'},\n",
       " {'id': 18, 'name': 'Drama'},\n",
       " {'id': 36, 'name': 'History'}]"
      ]
     },
     "metadata": {},
     "output_type": "display_data"
    },
    {
     "data": {
      "text/plain": [
       "{'id': 1157, 'name': 'husband wife relationship'}"
      ]
     },
     "metadata": {},
     "output_type": "display_data"
    },
    {
     "data": {
      "text/plain": [
       "{'adult': False,\n",
       " 'gender': 2,\n",
       " 'id': 6193,\n",
       " 'known_for_department': 'Acting',\n",
       " 'name': 'Leonardo DiCaprio',\n",
       " 'original_name': 'Leonardo DiCaprio',\n",
       " 'popularity': 56.044,\n",
       " 'profile_path': '/5Brc5dLifH3UInk3wUaCuGXpCqy.jpg',\n",
       " 'cast_id': 0,\n",
       " 'character': 'Ernest Burkhart',\n",
       " 'credit_id': '5968f416c3a3686f60021bc8',\n",
       " 'order': 0}"
      ]
     },
     "metadata": {},
     "output_type": "display_data"
    }
   ],
   "source": [
    "movies_reco=movies_data[[\"id\",\"title\",\"overview\",\"genres\",\"keywords\",\"credits\"]]\n",
    "display(movies_reco.loc[0].genres,\n",
    "movies_data.loc[0].keywords[\"keywords\"][0],\n",
    "movies_data.loc[0].credits[\"cast\"][0])"
   ]
  },
  {
   "cell_type": "markdown",
   "metadata": {},
   "source": [
    "On nettoie les colonnes genres, keywords, credits"
   ]
  },
  {
   "cell_type": "code",
   "execution_count": 39,
   "metadata": {},
   "outputs": [],
   "source": [
    "def convert(text):\n",
    "    L = []\n",
    "    for i in text:\n",
    "        L.append(i[\"name\"]) \n",
    "    return L \n"
   ]
  },
  {
   "cell_type": "code",
   "execution_count": 40,
   "metadata": {},
   "outputs": [
    {
     "name": "stderr",
     "output_type": "stream",
     "text": [
      "W:\\AppData\\Local\\Temp\\ipykernel_11172\\1391644150.py:1: SettingWithCopyWarning: \n",
      "A value is trying to be set on a copy of a slice from a DataFrame.\n",
      "Try using .loc[row_indexer,col_indexer] = value instead\n",
      "\n",
      "See the caveats in the documentation: https://pandas.pydata.org/pandas-docs/stable/user_guide/indexing.html#returning-a-view-versus-a-copy\n",
      "  movies_reco['genres'] = movies_reco['genres'].apply(convert)\n",
      "W:\\AppData\\Local\\Temp\\ipykernel_11172\\1391644150.py:2: SettingWithCopyWarning: \n",
      "A value is trying to be set on a copy of a slice from a DataFrame.\n",
      "Try using .loc[row_indexer,col_indexer] = value instead\n",
      "\n",
      "See the caveats in the documentation: https://pandas.pydata.org/pandas-docs/stable/user_guide/indexing.html#returning-a-view-versus-a-copy\n",
      "  movies_reco['keywords'] = movies_reco['keywords'].apply(lambda x: x['keywords'] if isinstance(x, dict) and 'keywords' in x else None) # regarder Robot Apocalypse Keywords\n"
     ]
    },
    {
     "data": {
      "text/html": [
       "<div>\n",
       "<style scoped>\n",
       "    .dataframe tbody tr th:only-of-type {\n",
       "        vertical-align: middle;\n",
       "    }\n",
       "\n",
       "    .dataframe tbody tr th {\n",
       "        vertical-align: top;\n",
       "    }\n",
       "\n",
       "    .dataframe thead th {\n",
       "        text-align: right;\n",
       "    }\n",
       "</style>\n",
       "<table border=\"1\" class=\"dataframe\">\n",
       "  <thead>\n",
       "    <tr style=\"text-align: right;\">\n",
       "      <th></th>\n",
       "      <th>id</th>\n",
       "      <th>title</th>\n",
       "      <th>overview</th>\n",
       "      <th>genres</th>\n",
       "      <th>keywords</th>\n",
       "      <th>cast</th>\n",
       "      <th>crew</th>\n",
       "    </tr>\n",
       "  </thead>\n",
       "  <tbody>\n",
       "    <tr>\n",
       "      <th>0</th>\n",
       "      <td>466420</td>\n",
       "      <td>Killers of the Flower Moon</td>\n",
       "      <td>When oil is discovered in 1920s Oklahoma under...</td>\n",
       "      <td>[Crime, Drama, History]</td>\n",
       "      <td>[husband wife relationship, based on novel or ...</td>\n",
       "      <td>[{'adult': False, 'gender': 2, 'id': 6193, 'kn...</td>\n",
       "      <td>[{'adult': False, 'gender': 2, 'id': 27, 'know...</td>\n",
       "    </tr>\n",
       "    <tr>\n",
       "      <th>1</th>\n",
       "      <td>897087</td>\n",
       "      <td>Freelance</td>\n",
       "      <td>An ex-special forces operative takes a job to ...</td>\n",
       "      <td>[Action, Comedy]</td>\n",
       "      <td>[coup d'etat, dictatorship, political assassin...</td>\n",
       "      <td>[{'adult': False, 'gender': 2, 'id': 56446, 'k...</td>\n",
       "      <td>[{'adult': True, 'gender': 2, 'id': 997, 'know...</td>\n",
       "    </tr>\n",
       "    <tr>\n",
       "      <th>2</th>\n",
       "      <td>787699</td>\n",
       "      <td>Wonka</td>\n",
       "      <td>Willy Wonka – chock-full of ideas and determin...</td>\n",
       "      <td>[Comedy, Family, Fantasy]</td>\n",
       "      <td>[chocolate, musical, prequel]</td>\n",
       "      <td>[{'adult': False, 'gender': 2, 'id': 1190668, ...</td>\n",
       "      <td>[{'adult': False, 'gender': 2, 'id': 1299, 'kn...</td>\n",
       "    </tr>\n",
       "    <tr>\n",
       "      <th>3</th>\n",
       "      <td>901362</td>\n",
       "      <td>Trolls Band Together</td>\n",
       "      <td>When Branch's brother, Floyd, is kidnapped for...</td>\n",
       "      <td>[Animation, Family, Music, Fantasy, Comedy]</td>\n",
       "      <td>[pop star, brother, musical, sequel, based on ...</td>\n",
       "      <td>[{'adult': False, 'gender': 1, 'id': 84223, 'k...</td>\n",
       "      <td>[{'adult': False, 'gender': 2, 'id': 10572, 'k...</td>\n",
       "    </tr>\n",
       "    <tr>\n",
       "      <th>4</th>\n",
       "      <td>1075794</td>\n",
       "      <td>Leo</td>\n",
       "      <td>Jaded 74-year-old lizard Leo has been stuck in...</td>\n",
       "      <td>[Animation, Comedy, Family]</td>\n",
       "      <td>[classroom, musical, bucket list]</td>\n",
       "      <td>[{'adult': False, 'gender': 2, 'id': 19292, 'k...</td>\n",
       "      <td>[{'adult': False, 'gender': 0, 'id': 7963, 'kn...</td>\n",
       "    </tr>\n",
       "  </tbody>\n",
       "</table>\n",
       "</div>"
      ],
      "text/plain": [
       "        id                       title  \\\n",
       "0   466420  Killers of the Flower Moon   \n",
       "1   897087                   Freelance   \n",
       "2   787699                       Wonka   \n",
       "3   901362        Trolls Band Together   \n",
       "4  1075794                         Leo   \n",
       "\n",
       "                                            overview  \\\n",
       "0  When oil is discovered in 1920s Oklahoma under...   \n",
       "1  An ex-special forces operative takes a job to ...   \n",
       "2  Willy Wonka – chock-full of ideas and determin...   \n",
       "3  When Branch's brother, Floyd, is kidnapped for...   \n",
       "4  Jaded 74-year-old lizard Leo has been stuck in...   \n",
       "\n",
       "                                        genres  \\\n",
       "0                      [Crime, Drama, History]   \n",
       "1                             [Action, Comedy]   \n",
       "2                    [Comedy, Family, Fantasy]   \n",
       "3  [Animation, Family, Music, Fantasy, Comedy]   \n",
       "4                  [Animation, Comedy, Family]   \n",
       "\n",
       "                                            keywords  \\\n",
       "0  [husband wife relationship, based on novel or ...   \n",
       "1  [coup d'etat, dictatorship, political assassin...   \n",
       "2                      [chocolate, musical, prequel]   \n",
       "3  [pop star, brother, musical, sequel, based on ...   \n",
       "4                  [classroom, musical, bucket list]   \n",
       "\n",
       "                                                cast  \\\n",
       "0  [{'adult': False, 'gender': 2, 'id': 6193, 'kn...   \n",
       "1  [{'adult': False, 'gender': 2, 'id': 56446, 'k...   \n",
       "2  [{'adult': False, 'gender': 2, 'id': 1190668, ...   \n",
       "3  [{'adult': False, 'gender': 1, 'id': 84223, 'k...   \n",
       "4  [{'adult': False, 'gender': 2, 'id': 19292, 'k...   \n",
       "\n",
       "                                                crew  \n",
       "0  [{'adult': False, 'gender': 2, 'id': 27, 'know...  \n",
       "1  [{'adult': True, 'gender': 2, 'id': 997, 'know...  \n",
       "2  [{'adult': False, 'gender': 2, 'id': 1299, 'kn...  \n",
       "3  [{'adult': False, 'gender': 2, 'id': 10572, 'k...  \n",
       "4  [{'adult': False, 'gender': 0, 'id': 7963, 'kn...  "
      ]
     },
     "execution_count": 40,
     "metadata": {},
     "output_type": "execute_result"
    }
   ],
   "source": [
    "movies_reco['genres'] = movies_reco['genres'].apply(convert)\n",
    "movies_reco['keywords'] = movies_reco['keywords'].apply(lambda x: x['keywords'] if isinstance(x, dict) and 'keywords' in x else None) # regarder Robot Apocalypse Keywords\n",
    "movies_reco = movies_reco[movies_reco['keywords'].apply(lambda x: isinstance(x, list) and len(x) > 0)]\n",
    "movies_reco[\"keywords\"]=movies_reco[\"keywords\"].apply(convert)\n",
    "\n",
    "movies_reco['cast'] = movies_reco['credits'].apply(lambda x: x.get('cast') if isinstance(x, dict) else None)\n",
    "movies_reco['crew'] = movies_reco['credits'].apply(lambda x: x.get('crew') if isinstance(x, dict) else None)\n",
    "movies_reco.drop(\"credits\", axis=1,inplace=True)\n",
    "movies_reco.head()"
   ]
  },
  {
   "cell_type": "code",
   "execution_count": 42,
   "metadata": {},
   "outputs": [],
   "source": [
    "def convert3(text):\n",
    "    L=[]\n",
    "    counter=0\n",
    "    for i in text:\n",
    "        if counter<3:\n",
    "            L.append(i[\"name\"])\n",
    "        counter+=1\n",
    "    return L\n",
    "movies_reco[\"cast\"]=movies_reco[\"cast\"].apply(convert3)"
   ]
  },
  {
   "cell_type": "markdown",
   "metadata": {},
   "source": [
    "Ainsi, les colonnes genres, keywords, cast et crew sont exploitables."
   ]
  },
  {
   "cell_type": "code",
   "execution_count": 45,
   "metadata": {},
   "outputs": [
    {
     "data": {
      "text/html": [
       "<div>\n",
       "<style scoped>\n",
       "    .dataframe tbody tr th:only-of-type {\n",
       "        vertical-align: middle;\n",
       "    }\n",
       "\n",
       "    .dataframe tbody tr th {\n",
       "        vertical-align: top;\n",
       "    }\n",
       "\n",
       "    .dataframe thead th {\n",
       "        text-align: right;\n",
       "    }\n",
       "</style>\n",
       "<table border=\"1\" class=\"dataframe\">\n",
       "  <thead>\n",
       "    <tr style=\"text-align: right;\">\n",
       "      <th></th>\n",
       "      <th>id</th>\n",
       "      <th>title</th>\n",
       "      <th>overview</th>\n",
       "      <th>genres</th>\n",
       "      <th>keywords</th>\n",
       "      <th>cast</th>\n",
       "      <th>crew</th>\n",
       "      <th>title_bis</th>\n",
       "    </tr>\n",
       "  </thead>\n",
       "  <tbody>\n",
       "    <tr>\n",
       "      <th>0</th>\n",
       "      <td>466420</td>\n",
       "      <td>Killers of the Flower Moon</td>\n",
       "      <td>[When, oil, is, discovered, in, 1920s, Oklahom...</td>\n",
       "      <td>[Crime, Drama, History]</td>\n",
       "      <td>[husband wife relationship, based on novel or ...</td>\n",
       "      <td>[Leonardo DiCaprio, Lily Gladstone, Robert De ...</td>\n",
       "      <td>[Martin Scorsese]</td>\n",
       "      <td>[Killers, of, the, Flower, Moon]</td>\n",
       "    </tr>\n",
       "    <tr>\n",
       "      <th>1</th>\n",
       "      <td>897087</td>\n",
       "      <td>Freelance</td>\n",
       "      <td>[An, ex-special, forces, operative, takes, a, ...</td>\n",
       "      <td>[Action, Comedy]</td>\n",
       "      <td>[coup d'etat, dictatorship, political assassin...</td>\n",
       "      <td>[John Cena, Alison Brie, Juan Pablo Raba]</td>\n",
       "      <td>[Pierre Morel]</td>\n",
       "      <td>[Freelance]</td>\n",
       "    </tr>\n",
       "    <tr>\n",
       "      <th>2</th>\n",
       "      <td>787699</td>\n",
       "      <td>Wonka</td>\n",
       "      <td>[Willy, Wonka, –, chock-full, of, ideas, and, ...</td>\n",
       "      <td>[Comedy, Family, Fantasy]</td>\n",
       "      <td>[chocolate, musical, prequel]</td>\n",
       "      <td>[Timothée Chalamet, Calah Lane, Keegan-Michael...</td>\n",
       "      <td>[Paul King]</td>\n",
       "      <td>[Wonka]</td>\n",
       "    </tr>\n",
       "    <tr>\n",
       "      <th>3</th>\n",
       "      <td>901362</td>\n",
       "      <td>Trolls Band Together</td>\n",
       "      <td>[When, Branch's, brother,, Floyd,, is, kidnapp...</td>\n",
       "      <td>[Animation, Family, Music, Fantasy, Comedy]</td>\n",
       "      <td>[pop star, brother, musical, sequel, based on ...</td>\n",
       "      <td>[Anna Kendrick, Justin Timberlake, Camila Cabe...</td>\n",
       "      <td>[Walt Dohrn]</td>\n",
       "      <td>[Trolls, Band, Together]</td>\n",
       "    </tr>\n",
       "    <tr>\n",
       "      <th>4</th>\n",
       "      <td>1075794</td>\n",
       "      <td>Leo</td>\n",
       "      <td>[Jaded, 74-year-old, lizard, Leo, has, been, s...</td>\n",
       "      <td>[Animation, Comedy, Family]</td>\n",
       "      <td>[classroom, musical, bucket list]</td>\n",
       "      <td>[Adam Sandler, Bill Burr, Cecily Strong]</td>\n",
       "      <td>[Robert Smigel]</td>\n",
       "      <td>[Leo]</td>\n",
       "    </tr>\n",
       "  </tbody>\n",
       "</table>\n",
       "</div>"
      ],
      "text/plain": [
       "        id                       title  \\\n",
       "0   466420  Killers of the Flower Moon   \n",
       "1   897087                   Freelance   \n",
       "2   787699                       Wonka   \n",
       "3   901362        Trolls Band Together   \n",
       "4  1075794                         Leo   \n",
       "\n",
       "                                            overview  \\\n",
       "0  [When, oil, is, discovered, in, 1920s, Oklahom...   \n",
       "1  [An, ex-special, forces, operative, takes, a, ...   \n",
       "2  [Willy, Wonka, –, chock-full, of, ideas, and, ...   \n",
       "3  [When, Branch's, brother,, Floyd,, is, kidnapp...   \n",
       "4  [Jaded, 74-year-old, lizard, Leo, has, been, s...   \n",
       "\n",
       "                                        genres  \\\n",
       "0                      [Crime, Drama, History]   \n",
       "1                             [Action, Comedy]   \n",
       "2                    [Comedy, Family, Fantasy]   \n",
       "3  [Animation, Family, Music, Fantasy, Comedy]   \n",
       "4                  [Animation, Comedy, Family]   \n",
       "\n",
       "                                            keywords  \\\n",
       "0  [husband wife relationship, based on novel or ...   \n",
       "1  [coup d'etat, dictatorship, political assassin...   \n",
       "2                      [chocolate, musical, prequel]   \n",
       "3  [pop star, brother, musical, sequel, based on ...   \n",
       "4                  [classroom, musical, bucket list]   \n",
       "\n",
       "                                                cast               crew  \\\n",
       "0  [Leonardo DiCaprio, Lily Gladstone, Robert De ...  [Martin Scorsese]   \n",
       "1          [John Cena, Alison Brie, Juan Pablo Raba]     [Pierre Morel]   \n",
       "2  [Timothée Chalamet, Calah Lane, Keegan-Michael...        [Paul King]   \n",
       "3  [Anna Kendrick, Justin Timberlake, Camila Cabe...       [Walt Dohrn]   \n",
       "4           [Adam Sandler, Bill Burr, Cecily Strong]    [Robert Smigel]   \n",
       "\n",
       "                          title_bis  \n",
       "0  [Killers, of, the, Flower, Moon]  \n",
       "1                       [Freelance]  \n",
       "2                           [Wonka]  \n",
       "3          [Trolls, Band, Together]  \n",
       "4                             [Leo]  "
      ]
     },
     "execution_count": 45,
     "metadata": {},
     "output_type": "execute_result"
    }
   ],
   "source": [
    "def fetch_director(text):\n",
    "    L = []\n",
    "    for i in text:\n",
    "        if i['job'] == 'Director':\n",
    "            L.append(i['name'])\n",
    "            break\n",
    "    return L \n",
    "movies_reco[\"crew\"]=movies_reco[\"crew\"].apply(fetch_director)\n",
    "movies_reco['overview'] = movies_reco['overview'].apply(lambda x:x.split())\n",
    "movies_reco[\"title_bis\"]=movies_reco[\"title\"].apply(lambda x:x.split())\n",
    "movies_reco.head()"
   ]
  },
  {
   "cell_type": "code",
   "execution_count": 46,
   "metadata": {},
   "outputs": [
    {
     "data": {
      "text/html": [
       "<div>\n",
       "<style scoped>\n",
       "    .dataframe tbody tr th:only-of-type {\n",
       "        vertical-align: middle;\n",
       "    }\n",
       "\n",
       "    .dataframe tbody tr th {\n",
       "        vertical-align: top;\n",
       "    }\n",
       "\n",
       "    .dataframe thead th {\n",
       "        text-align: right;\n",
       "    }\n",
       "</style>\n",
       "<table border=\"1\" class=\"dataframe\">\n",
       "  <thead>\n",
       "    <tr style=\"text-align: right;\">\n",
       "      <th></th>\n",
       "      <th>id</th>\n",
       "      <th>title</th>\n",
       "      <th>overview</th>\n",
       "      <th>genres</th>\n",
       "      <th>keywords</th>\n",
       "      <th>cast</th>\n",
       "      <th>crew</th>\n",
       "      <th>title_bis</th>\n",
       "    </tr>\n",
       "  </thead>\n",
       "  <tbody>\n",
       "    <tr>\n",
       "      <th>0</th>\n",
       "      <td>466420</td>\n",
       "      <td>Killers of the Flower Moon</td>\n",
       "      <td>[When, oil, is, discovered, in, 1920s, Oklahom...</td>\n",
       "      <td>[Crime, Drama, History]</td>\n",
       "      <td>[husbandwiferelationship, basedonnovelorbook, ...</td>\n",
       "      <td>[LeonardoDiCaprio, LilyGladstone, RobertDeNiro]</td>\n",
       "      <td>[MartinScorsese]</td>\n",
       "      <td>[Killers, of, the, Flower, Moon]</td>\n",
       "    </tr>\n",
       "    <tr>\n",
       "      <th>1</th>\n",
       "      <td>897087</td>\n",
       "      <td>Freelance</td>\n",
       "      <td>[An, ex-special, forces, operative, takes, a, ...</td>\n",
       "      <td>[Action, Comedy]</td>\n",
       "      <td>[coupd'etat, dictatorship, politicalassassinat...</td>\n",
       "      <td>[JohnCena, AlisonBrie, JuanPabloRaba]</td>\n",
       "      <td>[PierreMorel]</td>\n",
       "      <td>[Freelance]</td>\n",
       "    </tr>\n",
       "    <tr>\n",
       "      <th>2</th>\n",
       "      <td>787699</td>\n",
       "      <td>Wonka</td>\n",
       "      <td>[Willy, Wonka, –, chock-full, of, ideas, and, ...</td>\n",
       "      <td>[Comedy, Family, Fantasy]</td>\n",
       "      <td>[chocolate, musical, prequel]</td>\n",
       "      <td>[TimothéeChalamet, CalahLane, Keegan-MichaelKey]</td>\n",
       "      <td>[PaulKing]</td>\n",
       "      <td>[Wonka]</td>\n",
       "    </tr>\n",
       "    <tr>\n",
       "      <th>3</th>\n",
       "      <td>901362</td>\n",
       "      <td>Trolls Band Together</td>\n",
       "      <td>[When, Branch's, brother,, Floyd,, is, kidnapp...</td>\n",
       "      <td>[Animation, Family, Music, Fantasy, Comedy]</td>\n",
       "      <td>[popstar, brother, musical, sequel, basedontoy...</td>\n",
       "      <td>[AnnaKendrick, JustinTimberlake, CamilaCabello]</td>\n",
       "      <td>[WaltDohrn]</td>\n",
       "      <td>[Trolls, Band, Together]</td>\n",
       "    </tr>\n",
       "    <tr>\n",
       "      <th>4</th>\n",
       "      <td>1075794</td>\n",
       "      <td>Leo</td>\n",
       "      <td>[Jaded, 74-year-old, lizard, Leo, has, been, s...</td>\n",
       "      <td>[Animation, Comedy, Family]</td>\n",
       "      <td>[classroom, musical, bucketlist]</td>\n",
       "      <td>[AdamSandler, BillBurr, CecilyStrong]</td>\n",
       "      <td>[RobertSmigel]</td>\n",
       "      <td>[Leo]</td>\n",
       "    </tr>\n",
       "  </tbody>\n",
       "</table>\n",
       "</div>"
      ],
      "text/plain": [
       "        id                       title  \\\n",
       "0   466420  Killers of the Flower Moon   \n",
       "1   897087                   Freelance   \n",
       "2   787699                       Wonka   \n",
       "3   901362        Trolls Band Together   \n",
       "4  1075794                         Leo   \n",
       "\n",
       "                                            overview  \\\n",
       "0  [When, oil, is, discovered, in, 1920s, Oklahom...   \n",
       "1  [An, ex-special, forces, operative, takes, a, ...   \n",
       "2  [Willy, Wonka, –, chock-full, of, ideas, and, ...   \n",
       "3  [When, Branch's, brother,, Floyd,, is, kidnapp...   \n",
       "4  [Jaded, 74-year-old, lizard, Leo, has, been, s...   \n",
       "\n",
       "                                        genres  \\\n",
       "0                      [Crime, Drama, History]   \n",
       "1                             [Action, Comedy]   \n",
       "2                    [Comedy, Family, Fantasy]   \n",
       "3  [Animation, Family, Music, Fantasy, Comedy]   \n",
       "4                  [Animation, Comedy, Family]   \n",
       "\n",
       "                                            keywords  \\\n",
       "0  [husbandwiferelationship, basedonnovelorbook, ...   \n",
       "1  [coupd'etat, dictatorship, politicalassassinat...   \n",
       "2                      [chocolate, musical, prequel]   \n",
       "3  [popstar, brother, musical, sequel, basedontoy...   \n",
       "4                   [classroom, musical, bucketlist]   \n",
       "\n",
       "                                               cast              crew  \\\n",
       "0   [LeonardoDiCaprio, LilyGladstone, RobertDeNiro]  [MartinScorsese]   \n",
       "1             [JohnCena, AlisonBrie, JuanPabloRaba]     [PierreMorel]   \n",
       "2  [TimothéeChalamet, CalahLane, Keegan-MichaelKey]        [PaulKing]   \n",
       "3   [AnnaKendrick, JustinTimberlake, CamilaCabello]       [WaltDohrn]   \n",
       "4             [AdamSandler, BillBurr, CecilyStrong]    [RobertSmigel]   \n",
       "\n",
       "                          title_bis  \n",
       "0  [Killers, of, the, Flower, Moon]  \n",
       "1                       [Freelance]  \n",
       "2                           [Wonka]  \n",
       "3          [Trolls, Band, Together]  \n",
       "4                             [Leo]  "
      ]
     },
     "execution_count": 46,
     "metadata": {},
     "output_type": "execute_result"
    }
   ],
   "source": [
    "def collapse(L):\n",
    "    L1 = []\n",
    "    for i in L:\n",
    "        L1.append(i.replace(\" \",\"\"))\n",
    "    return L1\n",
    "movies_reco['cast'] = movies_reco['cast'].apply(collapse)\n",
    "movies_reco['crew'] = movies_reco['crew'].apply(collapse)\n",
    "movies_reco['genres'] = movies_reco['genres'].apply(collapse)\n",
    "movies_reco['keywords'] = movies_reco['keywords'].apply(collapse)\n",
    "movies_reco.head()"
   ]
  },
  {
   "cell_type": "code",
   "execution_count": 47,
   "metadata": {},
   "outputs": [
    {
     "data": {
      "text/html": [
       "<div>\n",
       "<style scoped>\n",
       "    .dataframe tbody tr th:only-of-type {\n",
       "        vertical-align: middle;\n",
       "    }\n",
       "\n",
       "    .dataframe tbody tr th {\n",
       "        vertical-align: top;\n",
       "    }\n",
       "\n",
       "    .dataframe thead th {\n",
       "        text-align: right;\n",
       "    }\n",
       "</style>\n",
       "<table border=\"1\" class=\"dataframe\">\n",
       "  <thead>\n",
       "    <tr style=\"text-align: right;\">\n",
       "      <th></th>\n",
       "      <th>id</th>\n",
       "      <th>title</th>\n",
       "      <th>label</th>\n",
       "    </tr>\n",
       "  </thead>\n",
       "  <tbody>\n",
       "    <tr>\n",
       "      <th>0</th>\n",
       "      <td>466420</td>\n",
       "      <td>Killers of the Flower Moon</td>\n",
       "      <td>When oil is discovered in 1920s Oklahoma under...</td>\n",
       "    </tr>\n",
       "    <tr>\n",
       "      <th>1</th>\n",
       "      <td>897087</td>\n",
       "      <td>Freelance</td>\n",
       "      <td>An ex-special forces operative takes a job to ...</td>\n",
       "    </tr>\n",
       "    <tr>\n",
       "      <th>2</th>\n",
       "      <td>787699</td>\n",
       "      <td>Wonka</td>\n",
       "      <td>Willy Wonka – chock-full of ideas and determin...</td>\n",
       "    </tr>\n",
       "    <tr>\n",
       "      <th>3</th>\n",
       "      <td>901362</td>\n",
       "      <td>Trolls Band Together</td>\n",
       "      <td>When Branch's brother, Floyd, is kidnapped for...</td>\n",
       "    </tr>\n",
       "    <tr>\n",
       "      <th>4</th>\n",
       "      <td>1075794</td>\n",
       "      <td>Leo</td>\n",
       "      <td>Jaded 74-year-old lizard Leo has been stuck in...</td>\n",
       "    </tr>\n",
       "  </tbody>\n",
       "</table>\n",
       "</div>"
      ],
      "text/plain": [
       "        id                       title  \\\n",
       "0   466420  Killers of the Flower Moon   \n",
       "1   897087                   Freelance   \n",
       "2   787699                       Wonka   \n",
       "3   901362        Trolls Band Together   \n",
       "4  1075794                         Leo   \n",
       "\n",
       "                                               label  \n",
       "0  When oil is discovered in 1920s Oklahoma under...  \n",
       "1  An ex-special forces operative takes a job to ...  \n",
       "2  Willy Wonka – chock-full of ideas and determin...  \n",
       "3  When Branch's brother, Floyd, is kidnapped for...  \n",
       "4  Jaded 74-year-old lizard Leo has been stuck in...  "
      ]
     },
     "execution_count": 47,
     "metadata": {},
     "output_type": "execute_result"
    }
   ],
   "source": [
    "movies_reco['label'] = movies_reco['overview']+movies_reco['title_bis']+movies_reco['genres'] + movies_reco['keywords'] + movies_reco['cast'] + movies_reco['crew']\n",
    "data_model=movies_reco.drop(columns=['overview','genres','keywords','cast','crew',\"title_bis\"])\n",
    "data_model['label'] = data_model['label'].apply(lambda x: \" \".join(x))\n",
    "data_model.head()"
   ]
  },
  {
   "cell_type": "code",
   "execution_count": 48,
   "metadata": {},
   "outputs": [
    {
     "data": {
      "text/html": [
       "<div>\n",
       "<style scoped>\n",
       "    .dataframe tbody tr th:only-of-type {\n",
       "        vertical-align: middle;\n",
       "    }\n",
       "\n",
       "    .dataframe tbody tr th {\n",
       "        vertical-align: top;\n",
       "    }\n",
       "\n",
       "    .dataframe thead th {\n",
       "        text-align: right;\n",
       "    }\n",
       "</style>\n",
       "<table border=\"1\" class=\"dataframe\">\n",
       "  <thead>\n",
       "    <tr style=\"text-align: right;\">\n",
       "      <th></th>\n",
       "      <th>id</th>\n",
       "      <th>title</th>\n",
       "      <th>label</th>\n",
       "    </tr>\n",
       "  </thead>\n",
       "  <tbody>\n",
       "    <tr>\n",
       "      <th>0</th>\n",
       "      <td>466420</td>\n",
       "      <td>Killers of the Flower Moon</td>\n",
       "      <td>when oil is discov in 1920 oklahoma under osag...</td>\n",
       "    </tr>\n",
       "    <tr>\n",
       "      <th>1</th>\n",
       "      <td>897087</td>\n",
       "      <td>Freelance</td>\n",
       "      <td>an ex-speci forc oper take a job to provid sec...</td>\n",
       "    </tr>\n",
       "    <tr>\n",
       "      <th>2</th>\n",
       "      <td>787699</td>\n",
       "      <td>Wonka</td>\n",
       "      <td>willi wonka – chock-ful of idea and determin t...</td>\n",
       "    </tr>\n",
       "    <tr>\n",
       "      <th>3</th>\n",
       "      <td>901362</td>\n",
       "      <td>Trolls Band Together</td>\n",
       "      <td>when branch' brother, floyd, is kidnap for hi ...</td>\n",
       "    </tr>\n",
       "    <tr>\n",
       "      <th>4</th>\n",
       "      <td>1075794</td>\n",
       "      <td>Leo</td>\n",
       "      <td>jade 74-year-old lizard leo ha been stuck in t...</td>\n",
       "    </tr>\n",
       "  </tbody>\n",
       "</table>\n",
       "</div>"
      ],
      "text/plain": [
       "        id                       title  \\\n",
       "0   466420  Killers of the Flower Moon   \n",
       "1   897087                   Freelance   \n",
       "2   787699                       Wonka   \n",
       "3   901362        Trolls Band Together   \n",
       "4  1075794                         Leo   \n",
       "\n",
       "                                               label  \n",
       "0  when oil is discov in 1920 oklahoma under osag...  \n",
       "1  an ex-speci forc oper take a job to provid sec...  \n",
       "2  willi wonka – chock-ful of idea and determin t...  \n",
       "3  when branch' brother, floyd, is kidnap for hi ...  \n",
       "4  jade 74-year-old lizard leo ha been stuck in t...  "
      ]
     },
     "execution_count": 48,
     "metadata": {},
     "output_type": "execute_result"
    }
   ],
   "source": [
    "ps =PorterStemmer()\n",
    "def stem(text): # stem(\"dancing\")=>\"danc\"\n",
    "    y=[]\n",
    "    for i in text.split():\n",
    "        y.append(ps.stem(i))\n",
    "    return \" \".join(y)\n",
    "data_model[\"label\"]=data_model[\"label\"].apply(stem)\n",
    "data_model[\"label\"]=data_model[\"label\"].apply(lambda x : x.lower())\n",
    "data_model.head()"
   ]
  },
  {
   "cell_type": "code",
   "execution_count": 49,
   "metadata": {},
   "outputs": [
    {
     "name": "stdout",
     "output_type": "stream",
     "text": [
      "<class 'pandas.core.frame.DataFrame'>\n",
      "Index: 8302 entries, 0 to 9999\n",
      "Data columns (total 3 columns):\n",
      " #   Column  Non-Null Count  Dtype \n",
      "---  ------  --------------  ----- \n",
      " 0   id      8302 non-null   int64 \n",
      " 1   title   8302 non-null   object\n",
      " 2   label   8302 non-null   object\n",
      "dtypes: int64(1), object(2)\n",
      "memory usage: 259.4+ KB\n"
     ]
    }
   ],
   "source": [
    "data_model.info()"
   ]
  },
  {
   "cell_type": "code",
   "execution_count": 50,
   "metadata": {},
   "outputs": [],
   "source": [
    "from sklearn.feature_extraction.text import CountVectorizer\n",
    "cv = CountVectorizer(max_features=5000,stop_words='english')\n",
    "vector = cv.fit_transform(data_model['label']).toarray()"
   ]
  },
  {
   "cell_type": "code",
   "execution_count": 51,
   "metadata": {},
   "outputs": [
    {
     "data": {
      "text/plain": [
       "array([[1.        , 0.        , 0.        , ..., 0.01690309, 0.06172134,\n",
       "        0.        ],\n",
       "       [0.        , 1.        , 0.03846154, ..., 0.09376145, 0.        ,\n",
       "        0.03580574],\n",
       "       [0.        , 0.03846154, 1.        , ..., 0.02344036, 0.0855921 ,\n",
       "        0.10741723],\n",
       "       ...,\n",
       "       [0.01690309, 0.09376145, 0.02344036, ..., 1.        , 0.02608203,\n",
       "        0.04364358],\n",
       "       [0.06172134, 0.        , 0.0855921 , ..., 0.02608203, 1.        ,\n",
       "        0.        ],\n",
       "       [0.        , 0.03580574, 0.10741723, ..., 0.04364358, 0.        ,\n",
       "        1.        ]])"
      ]
     },
     "execution_count": 51,
     "metadata": {},
     "output_type": "execute_result"
    }
   ],
   "source": [
    "from sklearn.metrics.pairwise import cosine_similarity\n",
    "similarity = cosine_similarity(vector)\n",
    "similarity"
   ]
  },
  {
   "cell_type": "code",
   "execution_count": 52,
   "metadata": {},
   "outputs": [
    {
     "data": {
      "text/plain": [
       "(8302, 8302)"
      ]
     },
     "execution_count": 52,
     "metadata": {},
     "output_type": "execute_result"
    }
   ],
   "source": [
    "similarity.shape"
   ]
  },
  {
   "cell_type": "code",
   "execution_count": 53,
   "metadata": {},
   "outputs": [],
   "source": [
    "def recommend(movie,m):\n",
    "    index = data_model[data_model['title'] == movie].index[0]\n",
    "    distances = sorted(list(enumerate(similarity[index])),reverse=True,key = lambda x: x[1])\n",
    "    for i in distances[1:m+1]:\n",
    "        print(data_model.iloc[i[0]].title)"
   ]
  },
  {
   "cell_type": "code",
   "execution_count": 54,
   "metadata": {},
   "outputs": [
    {
     "name": "stdout",
     "output_type": "stream",
     "text": [
      "Wind River\n",
      "Thunderheart\n"
     ]
    }
   ],
   "source": [
    "recommend(\"Killers of the Flower Moon\",2)"
   ]
  },
  {
   "cell_type": "code",
   "execution_count": 55,
   "metadata": {},
   "outputs": [],
   "source": [
    "import pickle\n",
    "pickle.dump(data_model.to_dict(),open(\"movies_dict.pkl\",\"wb\"))\n",
    "pickle.dump(similarity,open(\"similarity.pkl\",\"wb\"))"
   ]
  }
 ],
 "metadata": {
  "kernelspec": {
   "display_name": "base",
   "language": "python",
   "name": "python3"
  },
  "language_info": {
   "codemirror_mode": {
    "name": "ipython",
    "version": 3
   },
   "file_extension": ".py",
   "mimetype": "text/x-python",
   "name": "python",
   "nbconvert_exporter": "python",
   "pygments_lexer": "ipython3",
   "version": "3.10.4"
  }
 },
 "nbformat": 4,
 "nbformat_minor": 2
}
